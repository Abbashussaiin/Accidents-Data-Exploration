{
 "cells": [
  {
   "cell_type": "code",
   "execution_count": null,
   "id": "2d97f9c2",
   "metadata": {},
   "outputs": [],
   "source": [
    "import pandas as pd\n",
    "import numpy as np\n",
    "import seaborn as sns\n",
    "sns.set_style(\"dark\")\n",
    "\n",
    "import matplotlib.pyplot as plt\n",
    "\n",
    "from matplotlib.ticker import PercentFormatter\n",
    "import plotly.express as px\n"
   ]
  },
  {
   "cell_type": "code",
   "execution_count": null,
   "id": "01076436",
   "metadata": {},
   "outputs": [],
   "source": [
    "df = pd.read_csv(\"Accidents_Data.csv\")"
   ]
  },
  {
   "cell_type": "code",
   "execution_count": 63,
   "id": "79677272",
   "metadata": {},
   "outputs": [
    {
     "data": {
      "text/html": [
       "<div>\n",
       "<style scoped>\n",
       "    .dataframe tbody tr th:only-of-type {\n",
       "        vertical-align: middle;\n",
       "    }\n",
       "\n",
       "    .dataframe tbody tr th {\n",
       "        vertical-align: top;\n",
       "    }\n",
       "\n",
       "    .dataframe thead th {\n",
       "        text-align: right;\n",
       "    }\n",
       "</style>\n",
       "<table border=\"1\" class=\"dataframe\">\n",
       "  <thead>\n",
       "    <tr style=\"text-align: right;\">\n",
       "      <th></th>\n",
       "      <th>Severity</th>\n",
       "      <th>Start_Time</th>\n",
       "      <th>End_Time</th>\n",
       "      <th>Start_Lat</th>\n",
       "      <th>Start_Lng</th>\n",
       "      <th>Distance(mi)</th>\n",
       "      <th>Description</th>\n",
       "      <th>Street</th>\n",
       "      <th>Side</th>\n",
       "      <th>City</th>\n",
       "      <th>...</th>\n",
       "      <th>Roundabout</th>\n",
       "      <th>Station</th>\n",
       "      <th>Stop</th>\n",
       "      <th>Traffic_Calming</th>\n",
       "      <th>Traffic_Signal</th>\n",
       "      <th>Turning_Loop</th>\n",
       "      <th>Sunrise_Sunset</th>\n",
       "      <th>Civil_Twilight</th>\n",
       "      <th>Nautical_Twilight</th>\n",
       "      <th>Astronomical_Twilight</th>\n",
       "    </tr>\n",
       "  </thead>\n",
       "  <tbody>\n",
       "    <tr>\n",
       "      <th>0</th>\n",
       "      <td>3</td>\n",
       "      <td>2016-02-08 00:37:08</td>\n",
       "      <td>2016-02-08 06:37:08</td>\n",
       "      <td>40.10891</td>\n",
       "      <td>-83.09286</td>\n",
       "      <td>3.230</td>\n",
       "      <td>Between Sawmill Rd/Exit 20 and OH-315/Olentang...</td>\n",
       "      <td>Outerbelt E</td>\n",
       "      <td>R</td>\n",
       "      <td>Dublin</td>\n",
       "      <td>...</td>\n",
       "      <td>False</td>\n",
       "      <td>False</td>\n",
       "      <td>False</td>\n",
       "      <td>False</td>\n",
       "      <td>False</td>\n",
       "      <td>False</td>\n",
       "      <td>Night</td>\n",
       "      <td>Night</td>\n",
       "      <td>Night</td>\n",
       "      <td>Night</td>\n",
       "    </tr>\n",
       "    <tr>\n",
       "      <th>1</th>\n",
       "      <td>2</td>\n",
       "      <td>2016-02-08 05:56:20</td>\n",
       "      <td>2016-02-08 11:56:20</td>\n",
       "      <td>39.86542</td>\n",
       "      <td>-84.06280</td>\n",
       "      <td>0.747</td>\n",
       "      <td>At OH-4/OH-235/Exit 41 - Accident.</td>\n",
       "      <td>I-70 E</td>\n",
       "      <td>R</td>\n",
       "      <td>Dayton</td>\n",
       "      <td>...</td>\n",
       "      <td>False</td>\n",
       "      <td>False</td>\n",
       "      <td>False</td>\n",
       "      <td>False</td>\n",
       "      <td>False</td>\n",
       "      <td>False</td>\n",
       "      <td>Night</td>\n",
       "      <td>Night</td>\n",
       "      <td>Night</td>\n",
       "      <td>Night</td>\n",
       "    </tr>\n",
       "    <tr>\n",
       "      <th>2</th>\n",
       "      <td>2</td>\n",
       "      <td>2016-02-08 06:15:39</td>\n",
       "      <td>2016-02-08 12:15:39</td>\n",
       "      <td>39.10266</td>\n",
       "      <td>-84.52468</td>\n",
       "      <td>0.055</td>\n",
       "      <td>At I-71/US-50/Exit 1 - Accident.</td>\n",
       "      <td>I-75 S</td>\n",
       "      <td>R</td>\n",
       "      <td>Cincinnati</td>\n",
       "      <td>...</td>\n",
       "      <td>False</td>\n",
       "      <td>False</td>\n",
       "      <td>False</td>\n",
       "      <td>False</td>\n",
       "      <td>False</td>\n",
       "      <td>False</td>\n",
       "      <td>Night</td>\n",
       "      <td>Night</td>\n",
       "      <td>Night</td>\n",
       "      <td>Day</td>\n",
       "    </tr>\n",
       "    <tr>\n",
       "      <th>3</th>\n",
       "      <td>2</td>\n",
       "      <td>2016-02-08 06:15:39</td>\n",
       "      <td>2016-02-08 12:15:39</td>\n",
       "      <td>39.10148</td>\n",
       "      <td>-84.52341</td>\n",
       "      <td>0.219</td>\n",
       "      <td>At I-71/US-50/Exit 1 - Accident.</td>\n",
       "      <td>US-50 E</td>\n",
       "      <td>R</td>\n",
       "      <td>Cincinnati</td>\n",
       "      <td>...</td>\n",
       "      <td>False</td>\n",
       "      <td>False</td>\n",
       "      <td>False</td>\n",
       "      <td>False</td>\n",
       "      <td>False</td>\n",
       "      <td>False</td>\n",
       "      <td>Night</td>\n",
       "      <td>Night</td>\n",
       "      <td>Night</td>\n",
       "      <td>Day</td>\n",
       "    </tr>\n",
       "    <tr>\n",
       "      <th>4</th>\n",
       "      <td>2</td>\n",
       "      <td>2016-02-08 06:51:45</td>\n",
       "      <td>2016-02-08 12:51:45</td>\n",
       "      <td>41.06213</td>\n",
       "      <td>-81.53784</td>\n",
       "      <td>0.123</td>\n",
       "      <td>At Dart Ave/Exit 21 - Accident.</td>\n",
       "      <td>I-77 N</td>\n",
       "      <td>R</td>\n",
       "      <td>Akron</td>\n",
       "      <td>...</td>\n",
       "      <td>False</td>\n",
       "      <td>False</td>\n",
       "      <td>False</td>\n",
       "      <td>False</td>\n",
       "      <td>False</td>\n",
       "      <td>False</td>\n",
       "      <td>Night</td>\n",
       "      <td>Night</td>\n",
       "      <td>Day</td>\n",
       "      <td>Day</td>\n",
       "    </tr>\n",
       "  </tbody>\n",
       "</table>\n",
       "<p>5 rows × 34 columns</p>\n",
       "</div>"
      ],
      "text/plain": [
       "   Severity           Start_Time             End_Time  Start_Lat  Start_Lng  \\\n",
       "0         3  2016-02-08 00:37:08  2016-02-08 06:37:08   40.10891  -83.09286   \n",
       "1         2  2016-02-08 05:56:20  2016-02-08 11:56:20   39.86542  -84.06280   \n",
       "2         2  2016-02-08 06:15:39  2016-02-08 12:15:39   39.10266  -84.52468   \n",
       "3         2  2016-02-08 06:15:39  2016-02-08 12:15:39   39.10148  -84.52341   \n",
       "4         2  2016-02-08 06:51:45  2016-02-08 12:51:45   41.06213  -81.53784   \n",
       "\n",
       "   Distance(mi)                                        Description  \\\n",
       "0         3.230  Between Sawmill Rd/Exit 20 and OH-315/Olentang...   \n",
       "1         0.747                 At OH-4/OH-235/Exit 41 - Accident.   \n",
       "2         0.055                   At I-71/US-50/Exit 1 - Accident.   \n",
       "3         0.219                   At I-71/US-50/Exit 1 - Accident.   \n",
       "4         0.123                    At Dart Ave/Exit 21 - Accident.   \n",
       "\n",
       "        Street Side        City  ... Roundabout Station   Stop  \\\n",
       "0  Outerbelt E    R      Dublin  ...      False   False  False   \n",
       "1       I-70 E    R      Dayton  ...      False   False  False   \n",
       "2       I-75 S    R  Cincinnati  ...      False   False  False   \n",
       "3      US-50 E    R  Cincinnati  ...      False   False  False   \n",
       "4       I-77 N    R       Akron  ...      False   False  False   \n",
       "\n",
       "   Traffic_Calming  Traffic_Signal  Turning_Loop Sunrise_Sunset  \\\n",
       "0            False           False         False          Night   \n",
       "1            False           False         False          Night   \n",
       "2            False           False         False          Night   \n",
       "3            False           False         False          Night   \n",
       "4            False           False         False          Night   \n",
       "\n",
       "   Civil_Twilight  Nautical_Twilight  Astronomical_Twilight  \n",
       "0           Night              Night                  Night  \n",
       "1           Night              Night                  Night  \n",
       "2           Night              Night                    Day  \n",
       "3           Night              Night                    Day  \n",
       "4           Night                Day                    Day  \n",
       "\n",
       "[5 rows x 34 columns]"
      ]
     },
     "execution_count": 63,
     "metadata": {},
     "output_type": "execute_result"
    }
   ],
   "source": [
    "df.head()"
   ]
  },
  {
   "cell_type": "code",
   "execution_count": 4,
   "id": "852b8a5d",
   "metadata": {},
   "outputs": [],
   "source": [
    "#accidents_data = df.iloc[1:10000]"
   ]
  },
  {
   "cell_type": "code",
   "execution_count": 5,
   "id": "64bd5bcd",
   "metadata": {},
   "outputs": [],
   "source": [
    "#accidents_data"
   ]
  },
  {
   "cell_type": "code",
   "execution_count": 64,
   "id": "ebbf9630",
   "metadata": {},
   "outputs": [
    {
     "data": {
      "text/html": [
       "<div>\n",
       "<style scoped>\n",
       "    .dataframe tbody tr th:only-of-type {\n",
       "        vertical-align: middle;\n",
       "    }\n",
       "\n",
       "    .dataframe tbody tr th {\n",
       "        vertical-align: top;\n",
       "    }\n",
       "\n",
       "    .dataframe thead th {\n",
       "        text-align: right;\n",
       "    }\n",
       "</style>\n",
       "<table border=\"1\" class=\"dataframe\">\n",
       "  <thead>\n",
       "    <tr style=\"text-align: right;\">\n",
       "      <th></th>\n",
       "      <th>Severity</th>\n",
       "      <th>Start_Time</th>\n",
       "      <th>End_Time</th>\n",
       "      <th>Start_Lat</th>\n",
       "      <th>Start_Lng</th>\n",
       "      <th>Distance(mi)</th>\n",
       "      <th>Description</th>\n",
       "      <th>Street</th>\n",
       "      <th>Side</th>\n",
       "      <th>City</th>\n",
       "      <th>...</th>\n",
       "      <th>Roundabout</th>\n",
       "      <th>Station</th>\n",
       "      <th>Stop</th>\n",
       "      <th>Traffic_Calming</th>\n",
       "      <th>Traffic_Signal</th>\n",
       "      <th>Turning_Loop</th>\n",
       "      <th>Sunrise_Sunset</th>\n",
       "      <th>Civil_Twilight</th>\n",
       "      <th>Nautical_Twilight</th>\n",
       "      <th>Astronomical_Twilight</th>\n",
       "    </tr>\n",
       "  </thead>\n",
       "  <tbody>\n",
       "    <tr>\n",
       "      <th>0</th>\n",
       "      <td>3</td>\n",
       "      <td>2016-02-08 00:37:08</td>\n",
       "      <td>2016-02-08 06:37:08</td>\n",
       "      <td>40.10891</td>\n",
       "      <td>-83.09286</td>\n",
       "      <td>3.230</td>\n",
       "      <td>Between Sawmill Rd/Exit 20 and OH-315/Olentang...</td>\n",
       "      <td>Outerbelt E</td>\n",
       "      <td>R</td>\n",
       "      <td>Dublin</td>\n",
       "      <td>...</td>\n",
       "      <td>False</td>\n",
       "      <td>False</td>\n",
       "      <td>False</td>\n",
       "      <td>False</td>\n",
       "      <td>False</td>\n",
       "      <td>False</td>\n",
       "      <td>Night</td>\n",
       "      <td>Night</td>\n",
       "      <td>Night</td>\n",
       "      <td>Night</td>\n",
       "    </tr>\n",
       "    <tr>\n",
       "      <th>1</th>\n",
       "      <td>2</td>\n",
       "      <td>2016-02-08 05:56:20</td>\n",
       "      <td>2016-02-08 11:56:20</td>\n",
       "      <td>39.86542</td>\n",
       "      <td>-84.06280</td>\n",
       "      <td>0.747</td>\n",
       "      <td>At OH-4/OH-235/Exit 41 - Accident.</td>\n",
       "      <td>I-70 E</td>\n",
       "      <td>R</td>\n",
       "      <td>Dayton</td>\n",
       "      <td>...</td>\n",
       "      <td>False</td>\n",
       "      <td>False</td>\n",
       "      <td>False</td>\n",
       "      <td>False</td>\n",
       "      <td>False</td>\n",
       "      <td>False</td>\n",
       "      <td>Night</td>\n",
       "      <td>Night</td>\n",
       "      <td>Night</td>\n",
       "      <td>Night</td>\n",
       "    </tr>\n",
       "    <tr>\n",
       "      <th>2</th>\n",
       "      <td>2</td>\n",
       "      <td>2016-02-08 06:15:39</td>\n",
       "      <td>2016-02-08 12:15:39</td>\n",
       "      <td>39.10266</td>\n",
       "      <td>-84.52468</td>\n",
       "      <td>0.055</td>\n",
       "      <td>At I-71/US-50/Exit 1 - Accident.</td>\n",
       "      <td>I-75 S</td>\n",
       "      <td>R</td>\n",
       "      <td>Cincinnati</td>\n",
       "      <td>...</td>\n",
       "      <td>False</td>\n",
       "      <td>False</td>\n",
       "      <td>False</td>\n",
       "      <td>False</td>\n",
       "      <td>False</td>\n",
       "      <td>False</td>\n",
       "      <td>Night</td>\n",
       "      <td>Night</td>\n",
       "      <td>Night</td>\n",
       "      <td>Day</td>\n",
       "    </tr>\n",
       "    <tr>\n",
       "      <th>3</th>\n",
       "      <td>2</td>\n",
       "      <td>2016-02-08 06:15:39</td>\n",
       "      <td>2016-02-08 12:15:39</td>\n",
       "      <td>39.10148</td>\n",
       "      <td>-84.52341</td>\n",
       "      <td>0.219</td>\n",
       "      <td>At I-71/US-50/Exit 1 - Accident.</td>\n",
       "      <td>US-50 E</td>\n",
       "      <td>R</td>\n",
       "      <td>Cincinnati</td>\n",
       "      <td>...</td>\n",
       "      <td>False</td>\n",
       "      <td>False</td>\n",
       "      <td>False</td>\n",
       "      <td>False</td>\n",
       "      <td>False</td>\n",
       "      <td>False</td>\n",
       "      <td>Night</td>\n",
       "      <td>Night</td>\n",
       "      <td>Night</td>\n",
       "      <td>Day</td>\n",
       "    </tr>\n",
       "    <tr>\n",
       "      <th>4</th>\n",
       "      <td>2</td>\n",
       "      <td>2016-02-08 06:51:45</td>\n",
       "      <td>2016-02-08 12:51:45</td>\n",
       "      <td>41.06213</td>\n",
       "      <td>-81.53784</td>\n",
       "      <td>0.123</td>\n",
       "      <td>At Dart Ave/Exit 21 - Accident.</td>\n",
       "      <td>I-77 N</td>\n",
       "      <td>R</td>\n",
       "      <td>Akron</td>\n",
       "      <td>...</td>\n",
       "      <td>False</td>\n",
       "      <td>False</td>\n",
       "      <td>False</td>\n",
       "      <td>False</td>\n",
       "      <td>False</td>\n",
       "      <td>False</td>\n",
       "      <td>Night</td>\n",
       "      <td>Night</td>\n",
       "      <td>Day</td>\n",
       "      <td>Day</td>\n",
       "    </tr>\n",
       "    <tr>\n",
       "      <th>...</th>\n",
       "      <td>...</td>\n",
       "      <td>...</td>\n",
       "      <td>...</td>\n",
       "      <td>...</td>\n",
       "      <td>...</td>\n",
       "      <td>...</td>\n",
       "      <td>...</td>\n",
       "      <td>...</td>\n",
       "      <td>...</td>\n",
       "      <td>...</td>\n",
       "      <td>...</td>\n",
       "      <td>...</td>\n",
       "      <td>...</td>\n",
       "      <td>...</td>\n",
       "      <td>...</td>\n",
       "      <td>...</td>\n",
       "      <td>...</td>\n",
       "      <td>...</td>\n",
       "      <td>...</td>\n",
       "      <td>...</td>\n",
       "      <td>...</td>\n",
       "    </tr>\n",
       "    <tr>\n",
       "      <th>1516059</th>\n",
       "      <td>2</td>\n",
       "      <td>2019-08-23 18:03:25</td>\n",
       "      <td>2019-08-23 18:32:01</td>\n",
       "      <td>34.00248</td>\n",
       "      <td>-117.37936</td>\n",
       "      <td>0.543</td>\n",
       "      <td>At Market St - Accident.</td>\n",
       "      <td>Pomona Fwy E</td>\n",
       "      <td>R</td>\n",
       "      <td>Riverside</td>\n",
       "      <td>...</td>\n",
       "      <td>False</td>\n",
       "      <td>False</td>\n",
       "      <td>False</td>\n",
       "      <td>False</td>\n",
       "      <td>False</td>\n",
       "      <td>False</td>\n",
       "      <td>Day</td>\n",
       "      <td>Day</td>\n",
       "      <td>Day</td>\n",
       "      <td>Day</td>\n",
       "    </tr>\n",
       "    <tr>\n",
       "      <th>1516060</th>\n",
       "      <td>2</td>\n",
       "      <td>2019-08-23 19:11:30</td>\n",
       "      <td>2019-08-23 19:38:23</td>\n",
       "      <td>32.76696</td>\n",
       "      <td>-117.14806</td>\n",
       "      <td>0.338</td>\n",
       "      <td>At Camino Del Rio/Mission Center Rd - Accident.</td>\n",
       "      <td>I-8 W</td>\n",
       "      <td>R</td>\n",
       "      <td>San Diego</td>\n",
       "      <td>...</td>\n",
       "      <td>False</td>\n",
       "      <td>False</td>\n",
       "      <td>False</td>\n",
       "      <td>False</td>\n",
       "      <td>False</td>\n",
       "      <td>False</td>\n",
       "      <td>Day</td>\n",
       "      <td>Day</td>\n",
       "      <td>Day</td>\n",
       "      <td>Day</td>\n",
       "    </tr>\n",
       "    <tr>\n",
       "      <th>1516061</th>\n",
       "      <td>2</td>\n",
       "      <td>2019-08-23 19:00:21</td>\n",
       "      <td>2019-08-23 19:28:49</td>\n",
       "      <td>33.77545</td>\n",
       "      <td>-117.84779</td>\n",
       "      <td>0.561</td>\n",
       "      <td>At Glassell St/Grand Ave - Accident. in the ri...</td>\n",
       "      <td>Garden Grove Fwy</td>\n",
       "      <td>R</td>\n",
       "      <td>Orange</td>\n",
       "      <td>...</td>\n",
       "      <td>False</td>\n",
       "      <td>False</td>\n",
       "      <td>False</td>\n",
       "      <td>False</td>\n",
       "      <td>False</td>\n",
       "      <td>False</td>\n",
       "      <td>Day</td>\n",
       "      <td>Day</td>\n",
       "      <td>Day</td>\n",
       "      <td>Day</td>\n",
       "    </tr>\n",
       "    <tr>\n",
       "      <th>1516062</th>\n",
       "      <td>2</td>\n",
       "      <td>2019-08-23 19:00:21</td>\n",
       "      <td>2019-08-23 19:29:42</td>\n",
       "      <td>33.99246</td>\n",
       "      <td>-118.40302</td>\n",
       "      <td>0.772</td>\n",
       "      <td>At CA-90/Marina Fwy/Jefferson Blvd - Accident.</td>\n",
       "      <td>San Diego Fwy S</td>\n",
       "      <td>R</td>\n",
       "      <td>Culver City</td>\n",
       "      <td>...</td>\n",
       "      <td>False</td>\n",
       "      <td>False</td>\n",
       "      <td>False</td>\n",
       "      <td>False</td>\n",
       "      <td>False</td>\n",
       "      <td>False</td>\n",
       "      <td>Day</td>\n",
       "      <td>Day</td>\n",
       "      <td>Day</td>\n",
       "      <td>Day</td>\n",
       "    </tr>\n",
       "    <tr>\n",
       "      <th>1516063</th>\n",
       "      <td>2</td>\n",
       "      <td>2019-08-23 18:52:06</td>\n",
       "      <td>2019-08-23 19:21:31</td>\n",
       "      <td>34.13393</td>\n",
       "      <td>-117.23092</td>\n",
       "      <td>0.537</td>\n",
       "      <td>At Highland Ave/Arden Ave - Accident.</td>\n",
       "      <td>CA-210 W</td>\n",
       "      <td>R</td>\n",
       "      <td>Highland</td>\n",
       "      <td>...</td>\n",
       "      <td>False</td>\n",
       "      <td>False</td>\n",
       "      <td>False</td>\n",
       "      <td>False</td>\n",
       "      <td>False</td>\n",
       "      <td>False</td>\n",
       "      <td>Day</td>\n",
       "      <td>Day</td>\n",
       "      <td>Day</td>\n",
       "      <td>Day</td>\n",
       "    </tr>\n",
       "  </tbody>\n",
       "</table>\n",
       "<p>1471980 rows × 34 columns</p>\n",
       "</div>"
      ],
      "text/plain": [
       "        Severity           Start_Time             End_Time Start_Lat  \\\n",
       "0              3  2016-02-08 00:37:08  2016-02-08 06:37:08  40.10891   \n",
       "1              2  2016-02-08 05:56:20  2016-02-08 11:56:20  39.86542   \n",
       "2              2  2016-02-08 06:15:39  2016-02-08 12:15:39  39.10266   \n",
       "3              2  2016-02-08 06:15:39  2016-02-08 12:15:39  39.10148   \n",
       "4              2  2016-02-08 06:51:45  2016-02-08 12:51:45  41.06213   \n",
       "...          ...                  ...                  ...       ...   \n",
       "1516059        2  2019-08-23 18:03:25  2019-08-23 18:32:01  34.00248   \n",
       "1516060        2  2019-08-23 19:11:30  2019-08-23 19:38:23  32.76696   \n",
       "1516061        2  2019-08-23 19:00:21  2019-08-23 19:28:49  33.77545   \n",
       "1516062        2  2019-08-23 19:00:21  2019-08-23 19:29:42  33.99246   \n",
       "1516063        2  2019-08-23 18:52:06  2019-08-23 19:21:31  34.13393   \n",
       "\n",
       "         Start_Lng Distance(mi)  \\\n",
       "0        -83.09286        3.230   \n",
       "1        -84.06280        0.747   \n",
       "2        -84.52468        0.055   \n",
       "3        -84.52341        0.219   \n",
       "4        -81.53784        0.123   \n",
       "...            ...          ...   \n",
       "1516059 -117.37936        0.543   \n",
       "1516060 -117.14806        0.338   \n",
       "1516061 -117.84779        0.561   \n",
       "1516062 -118.40302        0.772   \n",
       "1516063 -117.23092        0.537   \n",
       "\n",
       "                                               Description            Street  \\\n",
       "0        Between Sawmill Rd/Exit 20 and OH-315/Olentang...       Outerbelt E   \n",
       "1                       At OH-4/OH-235/Exit 41 - Accident.            I-70 E   \n",
       "2                         At I-71/US-50/Exit 1 - Accident.            I-75 S   \n",
       "3                         At I-71/US-50/Exit 1 - Accident.           US-50 E   \n",
       "4                          At Dart Ave/Exit 21 - Accident.            I-77 N   \n",
       "...                                                    ...               ...   \n",
       "1516059                           At Market St - Accident.      Pomona Fwy E   \n",
       "1516060    At Camino Del Rio/Mission Center Rd - Accident.             I-8 W   \n",
       "1516061  At Glassell St/Grand Ave - Accident. in the ri...  Garden Grove Fwy   \n",
       "1516062     At CA-90/Marina Fwy/Jefferson Blvd - Accident.   San Diego Fwy S   \n",
       "1516063              At Highland Ave/Arden Ave - Accident.          CA-210 W   \n",
       "\n",
       "        Side         City  ... Roundabout Station   Stop Traffic_Calming  \\\n",
       "0          R       Dublin  ...      False   False  False           False   \n",
       "1          R       Dayton  ...      False   False  False           False   \n",
       "2          R   Cincinnati  ...      False   False  False           False   \n",
       "3          R   Cincinnati  ...      False   False  False           False   \n",
       "4          R        Akron  ...      False   False  False           False   \n",
       "...      ...          ...  ...        ...     ...    ...             ...   \n",
       "1516059    R    Riverside  ...      False   False  False           False   \n",
       "1516060    R    San Diego  ...      False   False  False           False   \n",
       "1516061    R       Orange  ...      False   False  False           False   \n",
       "1516062    R  Culver City  ...      False   False  False           False   \n",
       "1516063    R     Highland  ...      False   False  False           False   \n",
       "\n",
       "        Traffic_Signal Turning_Loop Sunrise_Sunset Civil_Twilight  \\\n",
       "0                False        False          Night          Night   \n",
       "1                False        False          Night          Night   \n",
       "2                False        False          Night          Night   \n",
       "3                False        False          Night          Night   \n",
       "4                False        False          Night          Night   \n",
       "...                ...          ...            ...            ...   \n",
       "1516059          False        False            Day            Day   \n",
       "1516060          False        False            Day            Day   \n",
       "1516061          False        False            Day            Day   \n",
       "1516062          False        False            Day            Day   \n",
       "1516063          False        False            Day            Day   \n",
       "\n",
       "        Nautical_Twilight Astronomical_Twilight  \n",
       "0                   Night                 Night  \n",
       "1                   Night                 Night  \n",
       "2                   Night                   Day  \n",
       "3                   Night                   Day  \n",
       "4                     Day                   Day  \n",
       "...                   ...                   ...  \n",
       "1516059               Day                   Day  \n",
       "1516060               Day                   Day  \n",
       "1516061               Day                   Day  \n",
       "1516062               Day                   Day  \n",
       "1516063               Day                   Day  \n",
       "\n",
       "[1471980 rows x 34 columns]"
      ]
     },
     "execution_count": 64,
     "metadata": {},
     "output_type": "execute_result"
    }
   ],
   "source": [
    "df.astype('category')"
   ]
  },
  {
   "cell_type": "code",
   "execution_count": null,
   "id": "10fe2f99",
   "metadata": {},
   "outputs": [],
   "source": []
  },
  {
   "cell_type": "code",
   "execution_count": 65,
   "id": "134836bb",
   "metadata": {},
   "outputs": [
    {
     "name": "stdout",
     "output_type": "stream",
     "text": [
      "<class 'pandas.core.frame.DataFrame'>\n",
      "Int64Index: 1471980 entries, 0 to 1516063\n",
      "Data columns (total 34 columns):\n",
      " #   Column                 Non-Null Count    Dtype  \n",
      "---  ------                 --------------    -----  \n",
      " 0   Severity               1471980 non-null  int64  \n",
      " 1   Start_Time             1471980 non-null  object \n",
      " 2   End_Time               1471980 non-null  object \n",
      " 3   Start_Lat              1471980 non-null  float64\n",
      " 4   Start_Lng              1471980 non-null  float64\n",
      " 5   Distance(mi)           1471980 non-null  float64\n",
      " 6   Description            1471980 non-null  object \n",
      " 7   Street                 1471980 non-null  object \n",
      " 8   Side                   1471980 non-null  object \n",
      " 9   City                   1471980 non-null  object \n",
      " 10  County                 1471980 non-null  object \n",
      " 11  State                  1471980 non-null  object \n",
      " 12  Temperature(F)         1471980 non-null  float64\n",
      " 13  Humidity(%)            1471980 non-null  float64\n",
      " 14  Visibility(mi)         1471980 non-null  float64\n",
      " 15  Wind_Speed(mph)        1471980 non-null  float64\n",
      " 16  Weather_Condition      1471980 non-null  object \n",
      " 17  Amenity                1471980 non-null  bool   \n",
      " 18  Bump                   1471980 non-null  bool   \n",
      " 19  Crossing               1471980 non-null  bool   \n",
      " 20  Give_Way               1471980 non-null  bool   \n",
      " 21  Junction               1471980 non-null  bool   \n",
      " 22  No_Exit                1471980 non-null  bool   \n",
      " 23  Railway                1471980 non-null  bool   \n",
      " 24  Roundabout             1471980 non-null  bool   \n",
      " 25  Station                1471980 non-null  bool   \n",
      " 26  Stop                   1471980 non-null  bool   \n",
      " 27  Traffic_Calming        1471980 non-null  bool   \n",
      " 28  Traffic_Signal         1471980 non-null  bool   \n",
      " 29  Turning_Loop           1471980 non-null  bool   \n",
      " 30  Sunrise_Sunset         1471980 non-null  object \n",
      " 31  Civil_Twilight         1471980 non-null  object \n",
      " 32  Nautical_Twilight      1471980 non-null  object \n",
      " 33  Astronomical_Twilight  1471980 non-null  object \n",
      "dtypes: bool(13), float64(7), int64(1), object(13)\n",
      "memory usage: 265.3+ MB\n"
     ]
    }
   ],
   "source": [
    "df.info()"
   ]
  },
  {
   "cell_type": "markdown",
   "id": "03a963a0",
   "metadata": {},
   "source": [
    "### The dataset has 1516064 entries and 47 features variable. Automatic Type Recognition: 13 of them are bool type, 13 of them are float64, 1 of them is int64, 20 of them are object. Memory usage: 412.1+ MB\n"
   ]
  },
  {
   "cell_type": "code",
   "execution_count": 66,
   "id": "280b2ec8",
   "metadata": {},
   "outputs": [
    {
     "data": {
      "text/html": [
       "<div>\n",
       "<style scoped>\n",
       "    .dataframe tbody tr th:only-of-type {\n",
       "        vertical-align: middle;\n",
       "    }\n",
       "\n",
       "    .dataframe tbody tr th {\n",
       "        vertical-align: top;\n",
       "    }\n",
       "\n",
       "    .dataframe thead th {\n",
       "        text-align: right;\n",
       "    }\n",
       "</style>\n",
       "<table border=\"1\" class=\"dataframe\">\n",
       "  <thead>\n",
       "    <tr style=\"text-align: right;\">\n",
       "      <th></th>\n",
       "      <th>Severity</th>\n",
       "      <th>Start_Lat</th>\n",
       "      <th>Start_Lng</th>\n",
       "      <th>Distance(mi)</th>\n",
       "      <th>Temperature(F)</th>\n",
       "      <th>Humidity(%)</th>\n",
       "      <th>Visibility(mi)</th>\n",
       "      <th>Wind_Speed(mph)</th>\n",
       "    </tr>\n",
       "  </thead>\n",
       "  <tbody>\n",
       "    <tr>\n",
       "      <th>count</th>\n",
       "      <td>1.471980e+06</td>\n",
       "      <td>1.471980e+06</td>\n",
       "      <td>1.471980e+06</td>\n",
       "      <td>1.471980e+06</td>\n",
       "      <td>1.471980e+06</td>\n",
       "      <td>1.471980e+06</td>\n",
       "      <td>1.471980e+06</td>\n",
       "      <td>1.471980e+06</td>\n",
       "    </tr>\n",
       "    <tr>\n",
       "      <th>mean</th>\n",
       "      <td>2.238188e+00</td>\n",
       "      <td>3.688385e+01</td>\n",
       "      <td>-9.865747e+01</td>\n",
       "      <td>5.832969e-01</td>\n",
       "      <td>5.959876e+01</td>\n",
       "      <td>6.466656e+01</td>\n",
       "      <td>9.131005e+00</td>\n",
       "      <td>7.630583e+00</td>\n",
       "    </tr>\n",
       "    <tr>\n",
       "      <th>std</th>\n",
       "      <td>6.080244e-01</td>\n",
       "      <td>5.191515e+00</td>\n",
       "      <td>1.848353e+01</td>\n",
       "      <td>1.623494e+00</td>\n",
       "      <td>1.822018e+01</td>\n",
       "      <td>2.317829e+01</td>\n",
       "      <td>2.885914e+00</td>\n",
       "      <td>5.464107e+00</td>\n",
       "    </tr>\n",
       "    <tr>\n",
       "      <th>min</th>\n",
       "      <td>1.000000e+00</td>\n",
       "      <td>2.457022e+01</td>\n",
       "      <td>-1.244976e+02</td>\n",
       "      <td>0.000000e+00</td>\n",
       "      <td>-8.900000e+01</td>\n",
       "      <td>1.000000e+00</td>\n",
       "      <td>0.000000e+00</td>\n",
       "      <td>0.000000e+00</td>\n",
       "    </tr>\n",
       "    <tr>\n",
       "      <th>25%</th>\n",
       "      <td>2.000000e+00</td>\n",
       "      <td>3.384572e+01</td>\n",
       "      <td>-1.182158e+02</td>\n",
       "      <td>0.000000e+00</td>\n",
       "      <td>4.800000e+01</td>\n",
       "      <td>4.800000e+01</td>\n",
       "      <td>1.000000e+01</td>\n",
       "      <td>4.600000e+00</td>\n",
       "    </tr>\n",
       "    <tr>\n",
       "      <th>50%</th>\n",
       "      <td>2.000000e+00</td>\n",
       "      <td>3.732132e+01</td>\n",
       "      <td>-9.436990e+01</td>\n",
       "      <td>1.760000e-01</td>\n",
       "      <td>6.100000e+01</td>\n",
       "      <td>6.700000e+01</td>\n",
       "      <td>1.000000e+01</td>\n",
       "      <td>7.000000e+00</td>\n",
       "    </tr>\n",
       "    <tr>\n",
       "      <th>75%</th>\n",
       "      <td>2.000000e+00</td>\n",
       "      <td>4.073634e+01</td>\n",
       "      <td>-8.092612e+01</td>\n",
       "      <td>5.920000e-01</td>\n",
       "      <td>7.300000e+01</td>\n",
       "      <td>8.400000e+01</td>\n",
       "      <td>1.000000e+01</td>\n",
       "      <td>1.000000e+01</td>\n",
       "    </tr>\n",
       "    <tr>\n",
       "      <th>max</th>\n",
       "      <td>4.000000e+00</td>\n",
       "      <td>4.900058e+01</td>\n",
       "      <td>-6.711317e+01</td>\n",
       "      <td>1.551860e+02</td>\n",
       "      <td>1.706000e+02</td>\n",
       "      <td>1.000000e+02</td>\n",
       "      <td>1.400000e+02</td>\n",
       "      <td>9.840000e+02</td>\n",
       "    </tr>\n",
       "  </tbody>\n",
       "</table>\n",
       "</div>"
      ],
      "text/plain": [
       "           Severity     Start_Lat     Start_Lng  Distance(mi)  Temperature(F)  \\\n",
       "count  1.471980e+06  1.471980e+06  1.471980e+06  1.471980e+06    1.471980e+06   \n",
       "mean   2.238188e+00  3.688385e+01 -9.865747e+01  5.832969e-01    5.959876e+01   \n",
       "std    6.080244e-01  5.191515e+00  1.848353e+01  1.623494e+00    1.822018e+01   \n",
       "min    1.000000e+00  2.457022e+01 -1.244976e+02  0.000000e+00   -8.900000e+01   \n",
       "25%    2.000000e+00  3.384572e+01 -1.182158e+02  0.000000e+00    4.800000e+01   \n",
       "50%    2.000000e+00  3.732132e+01 -9.436990e+01  1.760000e-01    6.100000e+01   \n",
       "75%    2.000000e+00  4.073634e+01 -8.092612e+01  5.920000e-01    7.300000e+01   \n",
       "max    4.000000e+00  4.900058e+01 -6.711317e+01  1.551860e+02    1.706000e+02   \n",
       "\n",
       "        Humidity(%)  Visibility(mi)  Wind_Speed(mph)  \n",
       "count  1.471980e+06    1.471980e+06     1.471980e+06  \n",
       "mean   6.466656e+01    9.131005e+00     7.630583e+00  \n",
       "std    2.317829e+01    2.885914e+00     5.464107e+00  \n",
       "min    1.000000e+00    0.000000e+00     0.000000e+00  \n",
       "25%    4.800000e+01    1.000000e+01     4.600000e+00  \n",
       "50%    6.700000e+01    1.000000e+01     7.000000e+00  \n",
       "75%    8.400000e+01    1.000000e+01     1.000000e+01  \n",
       "max    1.000000e+02    1.400000e+02     9.840000e+02  "
      ]
     },
     "execution_count": 66,
     "metadata": {},
     "output_type": "execute_result"
    }
   ],
   "source": [
    "df.describe()"
   ]
  },
  {
   "cell_type": "code",
   "execution_count": 67,
   "id": "fb76fddf",
   "metadata": {},
   "outputs": [
    {
     "data": {
      "text/html": [
       "<div>\n",
       "<style scoped>\n",
       "    .dataframe tbody tr th:only-of-type {\n",
       "        vertical-align: middle;\n",
       "    }\n",
       "\n",
       "    .dataframe tbody tr th {\n",
       "        vertical-align: top;\n",
       "    }\n",
       "\n",
       "    .dataframe thead th {\n",
       "        text-align: right;\n",
       "    }\n",
       "</style>\n",
       "<table border=\"1\" class=\"dataframe\">\n",
       "  <thead>\n",
       "    <tr style=\"text-align: right;\">\n",
       "      <th></th>\n",
       "      <th>Severity</th>\n",
       "      <th>Start_Time</th>\n",
       "      <th>End_Time</th>\n",
       "      <th>Start_Lat</th>\n",
       "      <th>Start_Lng</th>\n",
       "      <th>Distance(mi)</th>\n",
       "      <th>Description</th>\n",
       "      <th>Street</th>\n",
       "      <th>Side</th>\n",
       "      <th>City</th>\n",
       "      <th>...</th>\n",
       "      <th>Roundabout</th>\n",
       "      <th>Station</th>\n",
       "      <th>Stop</th>\n",
       "      <th>Traffic_Calming</th>\n",
       "      <th>Traffic_Signal</th>\n",
       "      <th>Turning_Loop</th>\n",
       "      <th>Sunrise_Sunset</th>\n",
       "      <th>Civil_Twilight</th>\n",
       "      <th>Nautical_Twilight</th>\n",
       "      <th>Astronomical_Twilight</th>\n",
       "    </tr>\n",
       "  </thead>\n",
       "  <tbody>\n",
       "    <tr>\n",
       "      <th>count</th>\n",
       "      <td>1471980</td>\n",
       "      <td>1471980</td>\n",
       "      <td>1471980</td>\n",
       "      <td>1.471980e+06</td>\n",
       "      <td>1.471980e+06</td>\n",
       "      <td>1471980.0</td>\n",
       "      <td>1471980</td>\n",
       "      <td>1471980</td>\n",
       "      <td>1471980</td>\n",
       "      <td>1471980</td>\n",
       "      <td>...</td>\n",
       "      <td>1471980</td>\n",
       "      <td>1471980</td>\n",
       "      <td>1471980</td>\n",
       "      <td>1471980</td>\n",
       "      <td>1471980</td>\n",
       "      <td>1471980</td>\n",
       "      <td>1471980</td>\n",
       "      <td>1471980</td>\n",
       "      <td>1471980</td>\n",
       "      <td>1471980</td>\n",
       "    </tr>\n",
       "    <tr>\n",
       "      <th>unique</th>\n",
       "      <td>4</td>\n",
       "      <td>1011564</td>\n",
       "      <td>1131176</td>\n",
       "      <td>5.747560e+05</td>\n",
       "      <td>5.869120e+05</td>\n",
       "      <td>11363.0</td>\n",
       "      <td>512998</td>\n",
       "      <td>90970</td>\n",
       "      <td>2</td>\n",
       "      <td>10466</td>\n",
       "      <td>...</td>\n",
       "      <td>2</td>\n",
       "      <td>2</td>\n",
       "      <td>2</td>\n",
       "      <td>2</td>\n",
       "      <td>2</td>\n",
       "      <td>1</td>\n",
       "      <td>2</td>\n",
       "      <td>2</td>\n",
       "      <td>2</td>\n",
       "      <td>2</td>\n",
       "    </tr>\n",
       "    <tr>\n",
       "      <th>top</th>\n",
       "      <td>2</td>\n",
       "      <td>2020-12-16 13:53:25</td>\n",
       "      <td>2017-05-15 15:22:55</td>\n",
       "      <td>4.085306e+01</td>\n",
       "      <td>-7.396011e+01</td>\n",
       "      <td>0.0</td>\n",
       "      <td>A crash has occurred causing no to minimum del...</td>\n",
       "      <td>I-5 N</td>\n",
       "      <td>R</td>\n",
       "      <td>Los Angeles</td>\n",
       "      <td>...</td>\n",
       "      <td>False</td>\n",
       "      <td>False</td>\n",
       "      <td>False</td>\n",
       "      <td>False</td>\n",
       "      <td>False</td>\n",
       "      <td>False</td>\n",
       "      <td>Day</td>\n",
       "      <td>Day</td>\n",
       "      <td>Day</td>\n",
       "      <td>Day</td>\n",
       "    </tr>\n",
       "    <tr>\n",
       "      <th>freq</th>\n",
       "      <td>1176541</td>\n",
       "      <td>109</td>\n",
       "      <td>73</td>\n",
       "      <td>2.510000e+02</td>\n",
       "      <td>2.390000e+02</td>\n",
       "      <td>390725.0</td>\n",
       "      <td>2589</td>\n",
       "      <td>26408</td>\n",
       "      <td>1256818</td>\n",
       "      <td>39626</td>\n",
       "      <td>...</td>\n",
       "      <td>1471929</td>\n",
       "      <td>1444845</td>\n",
       "      <td>1454846</td>\n",
       "      <td>1471503</td>\n",
       "      <td>1305787</td>\n",
       "      <td>1471980</td>\n",
       "      <td>886278</td>\n",
       "      <td>943800</td>\n",
       "      <td>1007920</td>\n",
       "      <td>1062041</td>\n",
       "    </tr>\n",
       "  </tbody>\n",
       "</table>\n",
       "<p>4 rows × 34 columns</p>\n",
       "</div>"
      ],
      "text/plain": [
       "        Severity           Start_Time             End_Time     Start_Lat  \\\n",
       "count    1471980              1471980              1471980  1.471980e+06   \n",
       "unique         4              1011564              1131176  5.747560e+05   \n",
       "top            2  2020-12-16 13:53:25  2017-05-15 15:22:55  4.085306e+01   \n",
       "freq     1176541                  109                   73  2.510000e+02   \n",
       "\n",
       "           Start_Lng  Distance(mi)  \\\n",
       "count   1.471980e+06     1471980.0   \n",
       "unique  5.869120e+05       11363.0   \n",
       "top    -7.396011e+01           0.0   \n",
       "freq    2.390000e+02      390725.0   \n",
       "\n",
       "                                              Description   Street     Side  \\\n",
       "count                                             1471980  1471980  1471980   \n",
       "unique                                             512998    90970        2   \n",
       "top     A crash has occurred causing no to minimum del...    I-5 N        R   \n",
       "freq                                                 2589    26408  1256818   \n",
       "\n",
       "               City  ... Roundabout  Station     Stop  Traffic_Calming  \\\n",
       "count       1471980  ...    1471980  1471980  1471980          1471980   \n",
       "unique        10466  ...          2        2        2                2   \n",
       "top     Los Angeles  ...      False    False    False            False   \n",
       "freq          39626  ...    1471929  1444845  1454846          1471503   \n",
       "\n",
       "        Traffic_Signal  Turning_Loop Sunrise_Sunset Civil_Twilight  \\\n",
       "count          1471980       1471980        1471980        1471980   \n",
       "unique               2             1              2              2   \n",
       "top              False         False            Day            Day   \n",
       "freq           1305787       1471980         886278         943800   \n",
       "\n",
       "       Nautical_Twilight Astronomical_Twilight  \n",
       "count            1471980               1471980  \n",
       "unique                 2                     2  \n",
       "top                  Day                   Day  \n",
       "freq             1007920               1062041  \n",
       "\n",
       "[4 rows x 34 columns]"
      ]
     },
     "execution_count": 67,
     "metadata": {},
     "output_type": "execute_result"
    }
   ],
   "source": [
    "df.astype(\"object\").describe()"
   ]
  },
  {
   "cell_type": "code",
   "execution_count": null,
   "id": "908dd7b5",
   "metadata": {},
   "outputs": [],
   "source": []
  },
  {
   "cell_type": "code",
   "execution_count": null,
   "id": "43e26d44",
   "metadata": {},
   "outputs": [],
   "source": []
  },
  {
   "cell_type": "code",
   "execution_count": 68,
   "id": "e02970f6",
   "metadata": {
    "scrolled": false
   },
   "outputs": [
    {
     "data": {
      "text/plain": [
       "Severity                 0\n",
       "Start_Time               0\n",
       "End_Time                 0\n",
       "Start_Lat                0\n",
       "Start_Lng                0\n",
       "Distance(mi)             0\n",
       "Description              0\n",
       "Street                   0\n",
       "Side                     0\n",
       "City                     0\n",
       "County                   0\n",
       "State                    0\n",
       "Temperature(F)           0\n",
       "Humidity(%)              0\n",
       "Visibility(mi)           0\n",
       "Wind_Speed(mph)          0\n",
       "Weather_Condition        0\n",
       "Amenity                  0\n",
       "Bump                     0\n",
       "Crossing                 0\n",
       "Give_Way                 0\n",
       "Junction                 0\n",
       "No_Exit                  0\n",
       "Railway                  0\n",
       "Roundabout               0\n",
       "Station                  0\n",
       "Stop                     0\n",
       "Traffic_Calming          0\n",
       "Traffic_Signal           0\n",
       "Turning_Loop             0\n",
       "Sunrise_Sunset           0\n",
       "Civil_Twilight           0\n",
       "Nautical_Twilight        0\n",
       "Astronomical_Twilight    0\n",
       "dtype: int64"
      ]
     },
     "execution_count": 68,
     "metadata": {},
     "output_type": "execute_result"
    }
   ],
   "source": [
    "df.isna().sum()"
   ]
  },
  {
   "cell_type": "code",
   "execution_count": 69,
   "id": "cd6e4e2d",
   "metadata": {},
   "outputs": [
    {
     "ename": "KeyError",
     "evalue": "\"['ID' 'End_Lat' 'End_Lng' 'Number' 'Wind_Chill(F)' 'Zipcode' 'Country'\\n 'Timezone' 'Airport_Code' 'Wind_Direction' 'Weather_Timestamp'\\n 'Pressure(in)' 'Precipitation(in)'] not found in axis\"",
     "output_type": "error",
     "traceback": [
      "\u001b[0;31m-------------------------------------------------------------\u001b[0m",
      "\u001b[0;31mKeyError\u001b[0m                    Traceback (most recent call last)",
      "\u001b[0;32m<ipython-input-69-61a7d6a70f29>\u001b[0m in \u001b[0;36m<module>\u001b[0;34m\u001b[0m\n\u001b[0;32m----> 1\u001b[0;31m \u001b[0mdf\u001b[0m\u001b[0;34m=\u001b[0m\u001b[0mdf\u001b[0m\u001b[0;34m.\u001b[0m\u001b[0mdrop\u001b[0m\u001b[0;34m(\u001b[0m\u001b[0mcolumns\u001b[0m\u001b[0;34m=\u001b[0m\u001b[0;34m[\u001b[0m\u001b[0;34m'ID'\u001b[0m\u001b[0;34m,\u001b[0m\u001b[0;34m'End_Lat'\u001b[0m\u001b[0;34m,\u001b[0m\u001b[0;34m'End_Lng'\u001b[0m\u001b[0;34m,\u001b[0m\u001b[0;34m'Number'\u001b[0m\u001b[0;34m,\u001b[0m\u001b[0;34m'Wind_Chill(F)'\u001b[0m\u001b[0;34m,\u001b[0m\u001b[0;34m'Zipcode'\u001b[0m\u001b[0;34m,\u001b[0m\u001b[0;34m'Country'\u001b[0m\u001b[0;34m,\u001b[0m\u001b[0;34m'Timezone'\u001b[0m\u001b[0;34m,\u001b[0m\u001b[0;34m'Airport_Code'\u001b[0m\u001b[0;34m,\u001b[0m\u001b[0;34m'Wind_Direction'\u001b[0m\u001b[0;34m,\u001b[0m\u001b[0;34m'Weather_Timestamp'\u001b[0m\u001b[0;34m,\u001b[0m\u001b[0;34m'Pressure(in)'\u001b[0m\u001b[0;34m,\u001b[0m\u001b[0;34m'Precipitation(in)'\u001b[0m\u001b[0;34m]\u001b[0m\u001b[0;34m)\u001b[0m\u001b[0;34m\u001b[0m\u001b[0;34m\u001b[0m\u001b[0m\n\u001b[0m",
      "\u001b[0;32m~/anaconda3/lib/python3.8/site-packages/pandas/core/frame.py\u001b[0m in \u001b[0;36mdrop\u001b[0;34m(self, labels, axis, index, columns, level, inplace, errors)\u001b[0m\n\u001b[1;32m   4306\u001b[0m                 \u001b[0mweight\u001b[0m  \u001b[0;36m1.0\u001b[0m     \u001b[0;36m0.8\u001b[0m\u001b[0;34m\u001b[0m\u001b[0;34m\u001b[0m\u001b[0m\n\u001b[1;32m   4307\u001b[0m         \"\"\"\n\u001b[0;32m-> 4308\u001b[0;31m         return super().drop(\n\u001b[0m\u001b[1;32m   4309\u001b[0m             \u001b[0mlabels\u001b[0m\u001b[0;34m=\u001b[0m\u001b[0mlabels\u001b[0m\u001b[0;34m,\u001b[0m\u001b[0;34m\u001b[0m\u001b[0;34m\u001b[0m\u001b[0m\n\u001b[1;32m   4310\u001b[0m             \u001b[0maxis\u001b[0m\u001b[0;34m=\u001b[0m\u001b[0maxis\u001b[0m\u001b[0;34m,\u001b[0m\u001b[0;34m\u001b[0m\u001b[0;34m\u001b[0m\u001b[0m\n",
      "\u001b[0;32m~/anaconda3/lib/python3.8/site-packages/pandas/core/generic.py\u001b[0m in \u001b[0;36mdrop\u001b[0;34m(self, labels, axis, index, columns, level, inplace, errors)\u001b[0m\n\u001b[1;32m   4151\u001b[0m         \u001b[0;32mfor\u001b[0m \u001b[0maxis\u001b[0m\u001b[0;34m,\u001b[0m \u001b[0mlabels\u001b[0m \u001b[0;32min\u001b[0m \u001b[0maxes\u001b[0m\u001b[0;34m.\u001b[0m\u001b[0mitems\u001b[0m\u001b[0;34m(\u001b[0m\u001b[0;34m)\u001b[0m\u001b[0;34m:\u001b[0m\u001b[0;34m\u001b[0m\u001b[0;34m\u001b[0m\u001b[0m\n\u001b[1;32m   4152\u001b[0m             \u001b[0;32mif\u001b[0m \u001b[0mlabels\u001b[0m \u001b[0;32mis\u001b[0m \u001b[0;32mnot\u001b[0m \u001b[0;32mNone\u001b[0m\u001b[0;34m:\u001b[0m\u001b[0;34m\u001b[0m\u001b[0;34m\u001b[0m\u001b[0m\n\u001b[0;32m-> 4153\u001b[0;31m                 \u001b[0mobj\u001b[0m \u001b[0;34m=\u001b[0m \u001b[0mobj\u001b[0m\u001b[0;34m.\u001b[0m\u001b[0m_drop_axis\u001b[0m\u001b[0;34m(\u001b[0m\u001b[0mlabels\u001b[0m\u001b[0;34m,\u001b[0m \u001b[0maxis\u001b[0m\u001b[0;34m,\u001b[0m \u001b[0mlevel\u001b[0m\u001b[0;34m=\u001b[0m\u001b[0mlevel\u001b[0m\u001b[0;34m,\u001b[0m \u001b[0merrors\u001b[0m\u001b[0;34m=\u001b[0m\u001b[0merrors\u001b[0m\u001b[0;34m)\u001b[0m\u001b[0;34m\u001b[0m\u001b[0;34m\u001b[0m\u001b[0m\n\u001b[0m\u001b[1;32m   4154\u001b[0m \u001b[0;34m\u001b[0m\u001b[0m\n\u001b[1;32m   4155\u001b[0m         \u001b[0;32mif\u001b[0m \u001b[0minplace\u001b[0m\u001b[0;34m:\u001b[0m\u001b[0;34m\u001b[0m\u001b[0;34m\u001b[0m\u001b[0m\n",
      "\u001b[0;32m~/anaconda3/lib/python3.8/site-packages/pandas/core/generic.py\u001b[0m in \u001b[0;36m_drop_axis\u001b[0;34m(self, labels, axis, level, errors)\u001b[0m\n\u001b[1;32m   4186\u001b[0m                 \u001b[0mnew_axis\u001b[0m \u001b[0;34m=\u001b[0m \u001b[0maxis\u001b[0m\u001b[0;34m.\u001b[0m\u001b[0mdrop\u001b[0m\u001b[0;34m(\u001b[0m\u001b[0mlabels\u001b[0m\u001b[0;34m,\u001b[0m \u001b[0mlevel\u001b[0m\u001b[0;34m=\u001b[0m\u001b[0mlevel\u001b[0m\u001b[0;34m,\u001b[0m \u001b[0merrors\u001b[0m\u001b[0;34m=\u001b[0m\u001b[0merrors\u001b[0m\u001b[0;34m)\u001b[0m\u001b[0;34m\u001b[0m\u001b[0;34m\u001b[0m\u001b[0m\n\u001b[1;32m   4187\u001b[0m             \u001b[0;32melse\u001b[0m\u001b[0;34m:\u001b[0m\u001b[0;34m\u001b[0m\u001b[0;34m\u001b[0m\u001b[0m\n\u001b[0;32m-> 4188\u001b[0;31m                 \u001b[0mnew_axis\u001b[0m \u001b[0;34m=\u001b[0m \u001b[0maxis\u001b[0m\u001b[0;34m.\u001b[0m\u001b[0mdrop\u001b[0m\u001b[0;34m(\u001b[0m\u001b[0mlabels\u001b[0m\u001b[0;34m,\u001b[0m \u001b[0merrors\u001b[0m\u001b[0;34m=\u001b[0m\u001b[0merrors\u001b[0m\u001b[0;34m)\u001b[0m\u001b[0;34m\u001b[0m\u001b[0;34m\u001b[0m\u001b[0m\n\u001b[0m\u001b[1;32m   4189\u001b[0m             \u001b[0mresult\u001b[0m \u001b[0;34m=\u001b[0m \u001b[0mself\u001b[0m\u001b[0;34m.\u001b[0m\u001b[0mreindex\u001b[0m\u001b[0;34m(\u001b[0m\u001b[0;34m**\u001b[0m\u001b[0;34m{\u001b[0m\u001b[0maxis_name\u001b[0m\u001b[0;34m:\u001b[0m \u001b[0mnew_axis\u001b[0m\u001b[0;34m}\u001b[0m\u001b[0;34m)\u001b[0m\u001b[0;34m\u001b[0m\u001b[0;34m\u001b[0m\u001b[0m\n\u001b[1;32m   4190\u001b[0m \u001b[0;34m\u001b[0m\u001b[0m\n",
      "\u001b[0;32m~/anaconda3/lib/python3.8/site-packages/pandas/core/indexes/base.py\u001b[0m in \u001b[0;36mdrop\u001b[0;34m(self, labels, errors)\u001b[0m\n\u001b[1;32m   5589\u001b[0m         \u001b[0;32mif\u001b[0m \u001b[0mmask\u001b[0m\u001b[0;34m.\u001b[0m\u001b[0many\u001b[0m\u001b[0;34m(\u001b[0m\u001b[0;34m)\u001b[0m\u001b[0;34m:\u001b[0m\u001b[0;34m\u001b[0m\u001b[0;34m\u001b[0m\u001b[0m\n\u001b[1;32m   5590\u001b[0m             \u001b[0;32mif\u001b[0m \u001b[0merrors\u001b[0m \u001b[0;34m!=\u001b[0m \u001b[0;34m\"ignore\"\u001b[0m\u001b[0;34m:\u001b[0m\u001b[0;34m\u001b[0m\u001b[0;34m\u001b[0m\u001b[0m\n\u001b[0;32m-> 5591\u001b[0;31m                 \u001b[0;32mraise\u001b[0m \u001b[0mKeyError\u001b[0m\u001b[0;34m(\u001b[0m\u001b[0;34mf\"{labels[mask]} not found in axis\"\u001b[0m\u001b[0;34m)\u001b[0m\u001b[0;34m\u001b[0m\u001b[0;34m\u001b[0m\u001b[0m\n\u001b[0m\u001b[1;32m   5592\u001b[0m             \u001b[0mindexer\u001b[0m \u001b[0;34m=\u001b[0m \u001b[0mindexer\u001b[0m\u001b[0;34m[\u001b[0m\u001b[0;34m~\u001b[0m\u001b[0mmask\u001b[0m\u001b[0;34m]\u001b[0m\u001b[0;34m\u001b[0m\u001b[0;34m\u001b[0m\u001b[0m\n\u001b[1;32m   5593\u001b[0m         \u001b[0;32mreturn\u001b[0m \u001b[0mself\u001b[0m\u001b[0;34m.\u001b[0m\u001b[0mdelete\u001b[0m\u001b[0;34m(\u001b[0m\u001b[0mindexer\u001b[0m\u001b[0;34m)\u001b[0m\u001b[0;34m\u001b[0m\u001b[0;34m\u001b[0m\u001b[0m\n",
      "\u001b[0;31mKeyError\u001b[0m: \"['ID' 'End_Lat' 'End_Lng' 'Number' 'Wind_Chill(F)' 'Zipcode' 'Country'\\n 'Timezone' 'Airport_Code' 'Wind_Direction' 'Weather_Timestamp'\\n 'Pressure(in)' 'Precipitation(in)'] not found in axis\""
     ]
    }
   ],
   "source": [
    "\n",
    "df=df.drop(columns=['ID','End_Lat','End_Lng','Number','Wind_Chill(F)','Zipcode','Country','Timezone','Airport_Code','Wind_Direction','Weather_Timestamp','Pressure(in)','Precipitation(in)'])"
   ]
  },
  {
   "cell_type": "code",
   "execution_count": null,
   "id": "f7f6ea59",
   "metadata": {},
   "outputs": [],
   "source": [
    "df['City']=df['City'].fillna(\"Unknown\")\n",
    "df['Sunrise_Sunset']=df['Sunrise_Sunset'].fillna(\"Unknown\")\n",
    "df['Civil_Twilight']=df['Civil_Twilight'].fillna(\"Unknown\")\n",
    "df['Nautical_Twilight']=df['Nautical_Twilight'].fillna(\"Unknown\")\n",
    "df['Astronomical_Twilight']=df['Astronomical_Twilight'].fillna(\"Unknown\")\n",
    "df['Weather_Condition']=df['Weather_Condition'].fillna(\"Unknown\")\n",
    "df['Visibility(mi)'].fillna(df['Visibility(mi)'].mean(), inplace=True)\n",
    "df['Wind_Speed(mph)'].fillna(df['Wind_Speed(mph)'].mean(), inplace=True)\n",
    "df['Temperature(F)'].fillna(df['Temperature(F)'].mean(), inplace = True)\n",
    "df['Humidity(%)'].fillna(df['Humidity(%)'].mean(), inplace = True)\n",
    "\n",
    "\n",
    "df=df[df.City != \"Unknown\"]\n",
    "df=df[df.Sunrise_Sunset != \"Unknown\"]\n",
    "df=df[df.Civil_Twilight != \"Unknown\"]\n",
    "df=df[df.Nautical_Twilight != \"Unknown\"]\n",
    "df=df[df.Astronomical_Twilight != \"Unknown\"]\n",
    "df=df[df.Weather_Condition != \"Unknown\"]"
   ]
  },
  {
   "cell_type": "code",
   "execution_count": null,
   "id": "faba0a03",
   "metadata": {},
   "outputs": [],
   "source": [
    "df"
   ]
  },
  {
   "cell_type": "code",
   "execution_count": null,
   "id": "f0a706cb",
   "metadata": {},
   "outputs": [],
   "source": [
    "df.isna().sum()"
   ]
  },
  {
   "cell_type": "code",
   "execution_count": null,
   "id": "74b4bb32",
   "metadata": {},
   "outputs": [],
   "source": [
    "colour = ('teal', 'navy', 'silver', 'maroon', 'red', 'purple', 'green', 'lime', 'olive', 'yellow',\"grey\" , 'blue', \"black\", 'aqua')"
   ]
  },
  {
   "cell_type": "code",
   "execution_count": null,
   "id": "2c515b50",
   "metadata": {},
   "outputs": [],
   "source": []
  },
  {
   "cell_type": "code",
   "execution_count": null,
   "id": "49e25d76",
   "metadata": {},
   "outputs": [],
   "source": [
    "df.columns"
   ]
  },
  {
   "cell_type": "code",
   "execution_count": null,
   "id": "7003babb",
   "metadata": {},
   "outputs": [],
   "source": []
  },
  {
   "cell_type": "code",
   "execution_count": null,
   "id": "32ab4cbb",
   "metadata": {},
   "outputs": [],
   "source": []
  },
  {
   "cell_type": "markdown",
   "id": "5bea11b5",
   "metadata": {},
   "source": [
    "### Time of Accident\n"
   ]
  },
  {
   "cell_type": "code",
   "execution_count": null,
   "id": "3bd96839",
   "metadata": {},
   "outputs": [],
   "source": []
  },
  {
   "cell_type": "code",
   "execution_count": null,
   "id": "c4d564ed",
   "metadata": {},
   "outputs": [],
   "source": [
    "df.Start_Time"
   ]
  },
  {
   "cell_type": "code",
   "execution_count": null,
   "id": "bd23f5d0",
   "metadata": {},
   "outputs": [],
   "source": [
    "df_Start_Time  = pd.to_datetime(df.Start_Time)"
   ]
  },
  {
   "cell_type": "code",
   "execution_count": null,
   "id": "e749e598",
   "metadata": {},
   "outputs": [],
   "source": [
    "\n",
    "df_Start_Time[1]"
   ]
  },
  {
   "cell_type": "code",
   "execution_count": null,
   "id": "eaed5784",
   "metadata": {},
   "outputs": [],
   "source": []
  },
  {
   "cell_type": "code",
   "execution_count": null,
   "id": "38555639",
   "metadata": {},
   "outputs": [],
   "source": [
    "hour= sns.histplot(df_Start_Time.dt.hour,bins = 24 ,  color = \"#458B74\")\n",
    "hour.set(xlabel=\"Hour of Day\", ylabel = \"Accident Count\") \n",
    "hour.set_title(\"No. of Accidents every hour in a day\")"
   ]
  },
  {
   "cell_type": "markdown",
   "id": "52c833f0",
   "metadata": {},
   "source": []
  },
  {
   "cell_type": "markdown",
   "id": "3e8f5438",
   "metadata": {},
   "source": [
    "### Peak time of accidents are between 6-9 in the morning and 2-6 in evening\n",
    "Resons:\n",
    "\n",
    "Office Hour / \n",
    "People in rush\n"
   ]
  },
  {
   "cell_type": "code",
   "execution_count": null,
   "id": "0e64b565",
   "metadata": {},
   "outputs": [],
   "source": [
    "week=sns.histplot(df_Start_Time.dt.dayofweek , bins = 7, color = \"#458B74\" )\n",
    "week.set(xlabel=\"Day of week\", ylabel = \"Accident Count\") \n",
    "week.set_title(\"No. of Accidents on each day of a week\")"
   ]
  },
  {
   "cell_type": "markdown",
   "id": "842030ee",
   "metadata": {},
   "source": [
    "### More Accidents tends to happen during weekdays over weekends\n",
    "#### Again because of people going to job"
   ]
  },
  {
   "cell_type": "code",
   "execution_count": null,
   "id": "98af9f86",
   "metadata": {
    "scrolled": true
   },
   "outputs": [],
   "source": [
    "sunday_start_time = df_Start_Time[df_Start_Time.dt.dayofweek == 6]\n",
    "sunday_start_time\n",
    "\n",
    "sunday_hour = sns.histplot(sunday_start_time.dt.hour , bins = 24, color = \"#458B74\")\n",
    "sunday_hour.set_title(\"No. of Accidents on a weekend\")\n",
    "sunday_hour.set(xlabel='Hour', ylabel='Count')"
   ]
  },
  {
   "cell_type": "code",
   "execution_count": null,
   "id": "cb336010",
   "metadata": {},
   "outputs": [],
   "source": []
  },
  {
   "cell_type": "code",
   "execution_count": null,
   "id": "8df3f531",
   "metadata": {},
   "outputs": [],
   "source": [
    "monday_start_time = df_Start_Time[df_Start_Time.dt.dayofweek == 1]\n",
    "monday_start_time\n",
    "\n",
    "monday_hour = sns.histplot(monday_start_time.dt.hour , bins = 24 , color = \"#458B74\")\n",
    "monday_hour.set_title(\"No. of Accidents on a weekday\")\n",
    "monday_hour.set(xlabel='Hour', ylabel='Count')"
   ]
  },
  {
   "cell_type": "code",
   "execution_count": null,
   "id": "275c1ab6",
   "metadata": {},
   "outputs": [],
   "source": []
  },
  {
   "cell_type": "code",
   "execution_count": null,
   "id": "370459e1",
   "metadata": {
    "scrolled": true
   },
   "outputs": [],
   "source": [
    "month = sns.histplot(df_Start_Time.dt.month , bins =12 , color = \"#458B74\")\n",
    "month.set_title(\"No. of Accidents each month\")\n",
    "month.set(xlabel='Month', ylabel='Count')"
   ]
  },
  {
   "cell_type": "code",
   "execution_count": null,
   "id": "b251081e",
   "metadata": {},
   "outputs": [],
   "source": []
  },
  {
   "cell_type": "code",
   "execution_count": null,
   "id": "a61ee0e8",
   "metadata": {},
   "outputs": [],
   "source": [
    "year = sns.histplot(df_Start_Time.dt.year , bins =5 , color = \"#458B74\")\n",
    "year.set_title(\"No. of Accidents each month\")\n",
    "year.set(xlabel='Year', ylabel='Count')"
   ]
  },
  {
   "cell_type": "code",
   "execution_count": null,
   "id": "9fd33fd2",
   "metadata": {},
   "outputs": [],
   "source": []
  },
  {
   "cell_type": "code",
   "execution_count": null,
   "id": "915f4cc2",
   "metadata": {},
   "outputs": [],
   "source": []
  },
  {
   "cell_type": "markdown",
   "id": "7842704d",
   "metadata": {},
   "source": [
    "# Does Weather condition has an effect on Accidents?"
   ]
  },
  {
   "cell_type": "code",
   "execution_count": null,
   "id": "31750a48",
   "metadata": {},
   "outputs": [],
   "source": []
  },
  {
   "cell_type": "code",
   "execution_count": null,
   "id": "ab400fe6",
   "metadata": {},
   "outputs": [],
   "source": [
    "df.columns"
   ]
  },
  {
   "cell_type": "code",
   "execution_count": null,
   "id": "2d4d4f6b",
   "metadata": {},
   "outputs": [],
   "source": [
    "df[\"Temperature(F)\"]"
   ]
  },
  {
   "cell_type": "code",
   "execution_count": null,
   "id": "527eabdd",
   "metadata": {},
   "outputs": [],
   "source": [
    "cold_temp_count = len(df[df['Temperature(F)'] < 70.0])\n",
    "hot_temp_count = len(df[df['Temperature(F)'] >= 70.0])"
   ]
  },
  {
   "cell_type": "code",
   "execution_count": null,
   "id": "c88f6415",
   "metadata": {},
   "outputs": [],
   "source": [
    "# Setting up the labels for the pie chart\n",
    "lab = ['Accidents in cold climate', 'Accidents in hot climate']"
   ]
  },
  {
   "cell_type": "code",
   "execution_count": null,
   "id": "87b5105b",
   "metadata": {},
   "outputs": [],
   "source": [
    "plt.figure(figsize=(20,10))\n",
    "plt.pie([cold_temp_count, hot_temp_count], labels = lab, autopct = '%0.2f%%', shadow = True, explode = [0.2,0.2], textprops={'fontsize': 10})\n",
    "plt.title('Accident Percentages in different climate ', fontsize = 20)\n",
    "plt.show()"
   ]
  },
  {
   "cell_type": "code",
   "execution_count": null,
   "id": "3fb71913",
   "metadata": {},
   "outputs": [],
   "source": []
  },
  {
   "cell_type": "code",
   "execution_count": null,
   "id": "60baa69a",
   "metadata": {},
   "outputs": [],
   "source": [
    "accident_weather_condition = (df.Weather_Condition.value_counts() / len(df)) * 100\n",
    "accident_weather_condition = accident_weather_condition.sort_values(ascending = False)"
   ]
  },
  {
   "cell_type": "code",
   "execution_count": null,
   "id": "aa35e0e5",
   "metadata": {},
   "outputs": [],
   "source": [
    "plt.figure(figsize=(20,10))\n",
    "accident_weather_condition[:20].plot.bar(color = colour)\n",
    "plt.xticks(fontsize=15)\n",
    "plt.yticks(fontsize=20)\n",
    "plt.xlabel('Percentage of accidents', fontsize=20)\n",
    "plt.title('Top 20 weather conditions with associated accident percentages', fontsize = 20)\n",
    "\n",
    "plt.show()"
   ]
  },
  {
   "cell_type": "code",
   "execution_count": null,
   "id": "02218925",
   "metadata": {},
   "outputs": [],
   "source": []
  },
  {
   "cell_type": "code",
   "execution_count": null,
   "id": "3f7e41e0",
   "metadata": {},
   "outputs": [],
   "source": [
    "plt.figure(figsize=(20,10))\n",
    "(df.Weather_Condition.value_counts() / len(df))[0:12].plot(kind='pie',autopct = '%0.2f%%', normalize = False, shadow = True)\n",
    "plt.ylabel(\"\")\n",
    "plt.title('Distribution of accidents based on weather condition', fontsize = 20)\n",
    "plt.show()"
   ]
  },
  {
   "cell_type": "code",
   "execution_count": null,
   "id": "20cfb72e",
   "metadata": {},
   "outputs": [],
   "source": [
    "fig=sns.heatmap(df[['Severity','Temperature(F)','State','Humidity(%)','City','Visibility(mi)','Wind_Speed(mph)']].corr(),annot=True,\n",
    "                cmap='RdYlGn',linewidths=0.25,annot_kws={'size':16}) \n",
    "\n",
    "fig=plt.gcf() \n",
    "plt.title('Corelation of Weather conditions')\n",
    "plt.show()"
   ]
  },
  {
   "cell_type": "markdown",
   "id": "cde6971f",
   "metadata": {},
   "source": []
  },
  {
   "cell_type": "markdown",
   "id": "64e2d98d",
   "metadata": {},
   "source": [
    "## Place of accident\n"
   ]
  },
  {
   "cell_type": "code",
   "execution_count": null,
   "id": "9f7425c7",
   "metadata": {},
   "outputs": [],
   "source": []
  },
  {
   "cell_type": "code",
   "execution_count": null,
   "id": "8799b6a5",
   "metadata": {},
   "outputs": [],
   "source": [
    "df.columns"
   ]
  },
  {
   "cell_type": "code",
   "execution_count": null,
   "id": "55e13a9e",
   "metadata": {
    "scrolled": true
   },
   "outputs": [],
   "source": [
    "df['State'].value_counts()"
   ]
  },
  {
   "cell_type": "code",
   "execution_count": null,
   "id": "d8e3ba96",
   "metadata": {},
   "outputs": [],
   "source": []
  },
  {
   "cell_type": "code",
   "execution_count": null,
   "id": "02c13d5e",
   "metadata": {
    "scrolled": true
   },
   "outputs": [],
   "source": []
  },
  {
   "cell_type": "code",
   "execution_count": null,
   "id": "774ad0a3",
   "metadata": {},
   "outputs": [],
   "source": [
    "fig, ax=plt.subplots(figsize=(16,9))\n",
    "df['State'].value_counts().plot(kind='bar', color = colour)\n",
    "plt.xlabel('States')\n",
    "plt.ylabel('Number of Accidents')\n",
    "plt.yscale(\"log\")\n",
    "\n",
    "plt.title('State wise accident count')\n",
    "plt.grid()\n"
   ]
  },
  {
   "cell_type": "code",
   "execution_count": null,
   "id": "7b907f98",
   "metadata": {},
   "outputs": [],
   "source": [
    "df.City"
   ]
  },
  {
   "cell_type": "code",
   "execution_count": null,
   "id": "93bb542b",
   "metadata": {
    "scrolled": true
   },
   "outputs": [],
   "source": [
    "cities = df.City.unique()\n",
    "len(cities)\n"
   ]
  },
  {
   "cell_type": "code",
   "execution_count": null,
   "id": "4ee1e274",
   "metadata": {},
   "outputs": [],
   "source": []
  },
  {
   "cell_type": "code",
   "execution_count": null,
   "id": "da0970b7",
   "metadata": {},
   "outputs": [],
   "source": []
  },
  {
   "cell_type": "code",
   "execution_count": null,
   "id": "dc7f7bfb",
   "metadata": {},
   "outputs": [],
   "source": [
    "cities_by_accident = df.City.value_counts()\n",
    "cities_by_accident"
   ]
  },
  {
   "cell_type": "code",
   "execution_count": null,
   "id": "f011b705",
   "metadata": {},
   "outputs": [],
   "source": []
  },
  {
   "cell_type": "code",
   "execution_count": null,
   "id": "82216461",
   "metadata": {},
   "outputs": [],
   "source": [
    "cities_by_accident[:14].plot(kind='bar', color = colour)\n",
    "plt.xlabel('Cities')\n",
    "plt.ylabel('Number of Accidents')\n",
    "plt.title('accidents over cities')\n",
    "\n",
    "plt.grid()"
   ]
  },
  {
   "cell_type": "code",
   "execution_count": null,
   "id": "3095d7b6",
   "metadata": {},
   "outputs": [],
   "source": []
  },
  {
   "cell_type": "code",
   "execution_count": null,
   "id": "b2743103",
   "metadata": {},
   "outputs": [],
   "source": []
  },
  {
   "cell_type": "code",
   "execution_count": null,
   "id": "30cf8a73",
   "metadata": {},
   "outputs": [],
   "source": []
  },
  {
   "cell_type": "code",
   "execution_count": 42,
   "id": "d17b2bb7",
   "metadata": {},
   "outputs": [],
   "source": [
    "bool_cols = [col for col in df.columns if df[col].dtype ==np.dtype('bool')]\n",
    "booldf = df[bool_cols]"
   ]
  },
  {
   "cell_type": "code",
   "execution_count": 43,
   "id": "ce4dd89c",
   "metadata": {},
   "outputs": [],
   "source": [
    "bools = booldf.sum(axis=0)"
   ]
  },
  {
   "cell_type": "code",
   "execution_count": 44,
   "id": "4986294f",
   "metadata": {},
   "outputs": [
    {
     "data": {
      "text/plain": [
       "Text(0.5, 1.0, 'Proximity to Traffic Object')"
      ]
     },
     "execution_count": 44,
     "metadata": {},
     "output_type": "execute_result"
    },
    {
     "data": {
      "image/png": "[encoded data removed]",
      "text/plain": [
       "<Figure size 720x720 with 1 Axes>"
      ]
     },
     "metadata": {},
     "output_type": "display_data"
    }
   ],
   "source": [
    "bools.plot.pie(autopct='%1.1f%%',shadow=True,figsize=(10,10))\n",
    "plt.ylabel('')\n",
    "plt.title('Proximity to Traffic Object')"
   ]
  },
  {
   "cell_type": "code",
   "execution_count": null,
   "id": "14218f0c",
   "metadata": {},
   "outputs": [],
   "source": []
  },
  {
   "cell_type": "code",
   "execution_count": null,
   "id": "4e4bc8e2",
   "metadata": {},
   "outputs": [],
   "source": []
  },
  {
   "cell_type": "markdown",
   "id": "20b87fb7",
   "metadata": {},
   "source": []
  },
  {
   "cell_type": "markdown",
   "id": "6e9b87df",
   "metadata": {},
   "source": [
    "# Severity of Accident"
   ]
  },
  {
   "cell_type": "code",
   "execution_count": 45,
   "id": "28b58c36",
   "metadata": {},
   "outputs": [
    {
     "data": {
      "text/plain": [
       "Index(['Severity', 'Start_Time', 'End_Time', 'Start_Lat', 'Start_Lng',\n",
       "       'Distance(mi)', 'Description', 'Street', 'Side', 'City', 'County',\n",
       "       'State', 'Temperature(F)', 'Humidity(%)', 'Visibility(mi)',\n",
       "       'Wind_Speed(mph)', 'Weather_Condition', 'Amenity', 'Bump', 'Crossing',\n",
       "       'Give_Way', 'Junction', 'No_Exit', 'Railway', 'Roundabout', 'Station',\n",
       "       'Stop', 'Traffic_Calming', 'Traffic_Signal', 'Turning_Loop',\n",
       "       'Sunrise_Sunset', 'Civil_Twilight', 'Nautical_Twilight',\n",
       "       'Astronomical_Twilight'],\n",
       "      dtype='object')"
      ]
     },
     "execution_count": 45,
     "metadata": {},
     "output_type": "execute_result"
    }
   ],
   "source": [
    "df.columns"
   ]
  },
  {
   "cell_type": "code",
   "execution_count": null,
   "id": "0b408391",
   "metadata": {},
   "outputs": [],
   "source": []
  },
  {
   "cell_type": "code",
   "execution_count": 46,
   "id": "361f0abb",
   "metadata": {},
   "outputs": [
    {
     "data": {
      "text/plain": [
       "2    1176541\n",
       "3     156897\n",
       "4     110751\n",
       "1      27791\n",
       "Name: Severity, dtype: int64"
      ]
     },
     "execution_count": 46,
     "metadata": {},
     "output_type": "execute_result"
    }
   ],
   "source": [
    "df.Severity.value_counts()"
   ]
  },
  {
   "cell_type": "code",
   "execution_count": null,
   "id": "60f1aeb5",
   "metadata": {},
   "outputs": [],
   "source": [
    "fig, ax = plt.subplots(figsize = (10,5))\n",
    "c = sns.countplot(x=\"Severity\", data=df)\n",
    "c.set_title(\"Degree of Severity\")\n",
    "for i in ax.patches:\n",
    "    count = \"{:.2%}\".format(i.get_height()/len(df.Severity))\n",
    "    x = i.get_x()+i.get_width()-0.50\n",
    "    y = i.get_height()+20000\n",
    "    ax.annotate(count, (x, y))\n",
    "plt.show()"
   ]
  },
  {
   "cell_type": "code",
   "execution_count": null,
   "id": "5e0a48c8",
   "metadata": {},
   "outputs": [],
   "source": []
  },
  {
   "cell_type": "code",
   "execution_count": null,
   "id": "621dd4ab",
   "metadata": {},
   "outputs": [],
   "source": []
  },
  {
   "cell_type": "code",
   "execution_count": null,
   "id": "a14cfc6a",
   "metadata": {},
   "outputs": [],
   "source": [
    "\n",
    "sns.factorplot('State','Severity',data=df)\n",
    "fig=plt.gcf()\n",
    "\n",
    "fig.set_size_inches(20,7)\n",
    "plt.title(\"Severity of accidents in each state\")\n",
    "plt.show()"
   ]
  },
  {
   "cell_type": "code",
   "execution_count": null,
   "id": "52b2a604",
   "metadata": {},
   "outputs": [],
   "source": []
  },
  {
   "cell_type": "code",
   "execution_count": null,
   "id": "ef1d3069",
   "metadata": {},
   "outputs": [],
   "source": []
  },
  {
   "cell_type": "code",
   "execution_count": null,
   "id": "27b37910",
   "metadata": {},
   "outputs": [],
   "source": []
  },
  {
   "cell_type": "code",
   "execution_count": null,
   "id": "4cb779e3",
   "metadata": {},
   "outputs": [],
   "source": []
  },
  {
   "cell_type": "code",
   "execution_count": null,
   "id": "af724ef2",
   "metadata": {
    "scrolled": true
   },
   "outputs": [],
   "source": [
    "corr = df.corr()\n",
    "plt.figure(figsize=(25,12))\n",
    "sns.heatmap(corr, annot=True)\n",
    "plt.show()\n",
    "corr_y = abs(corr[\"Severity\"])\n",
    "\n",
    "features = corr_y[corr_y>0.02]\n",
    "features"
   ]
  },
  {
   "cell_type": "markdown",
   "id": "c58619e8",
   "metadata": {},
   "source": [
    "# Supervised Learning\n"
   ]
  },
  {
   "cell_type": "code",
   "execution_count": null,
   "id": "e39d059d",
   "metadata": {},
   "outputs": [],
   "source": []
  },
  {
   "cell_type": "code",
   "execution_count": null,
   "id": "18cc3efd",
   "metadata": {},
   "outputs": [],
   "source": [
    "df.isnull().sum()"
   ]
  },
  {
   "cell_type": "code",
   "execution_count": null,
   "id": "0c4cf8b2",
   "metadata": {},
   "outputs": [],
   "source": []
  },
  {
   "cell_type": "code",
   "execution_count": null,
   "id": "d2892bf3",
   "metadata": {},
   "outputs": [],
   "source": []
  },
  {
   "cell_type": "code",
   "execution_count": 70,
   "id": "1263305e",
   "metadata": {},
   "outputs": [],
   "source": [
    "imp_features =[\"Severity\",\"Start_Lat\",\"Start_Lng\",\"Distance(mi)\",\"Wind_Speed(mph)\",\"Amenity\",\"Crossing\",\"Junction\",\"Railway\",\"Station\",\"Stop\",\"Traffic_Signal\"]\n"
   ]
  },
  {
   "cell_type": "code",
   "execution_count": 71,
   "id": "ee012ebb",
   "metadata": {},
   "outputs": [],
   "source": [
    "df_copy1 = df.filter(imp_features, axis=1)"
   ]
  },
  {
   "cell_type": "code",
   "execution_count": 72,
   "id": "9cfdf8ea",
   "metadata": {},
   "outputs": [
    {
     "data": {
      "text/plain": [
       "(1103985, 11)"
      ]
     },
     "execution_count": 72,
     "metadata": {},
     "output_type": "execute_result"
    }
   ],
   "source": [
    "\n",
    "from sklearn.model_selection import train_test_split\n",
    "y_data = df_copy1['Severity'].values\n",
    "X_data = df_copy1.drop('Severity', axis=1).values\n",
    "\n",
    "X_train, X_test, y_train, y_test = train_test_split(X_data, y_data, test_size=0.25, random_state=1)\n",
    "X_train.shape"
   ]
  },
  {
   "cell_type": "code",
   "execution_count": null,
   "id": "093a65c7",
   "metadata": {},
   "outputs": [],
   "source": []
  },
  {
   "cell_type": "code",
   "execution_count": 73,
   "id": "2a7eeac2",
   "metadata": {},
   "outputs": [
    {
     "name": "stdout",
     "output_type": "stream",
     "text": [
      "Features sorted by their rank:\n",
      "[(1, 'Amenity'), (2, 'Junction'), (3, 'Wind_Speed(mph)'), (4, 'Start_Lng'), (5, 'Crossing'), (6, 'Station'), (7, 'Stop'), (8, 'Severity'), (9, 'Start_Lat'), (10, 'Railway'), (11, 'Distance(mi)')]\n"
     ]
    }
   ],
   "source": [
    "from sklearn.feature_selection import RFE\n",
    "from sklearn.linear_model import LinearRegression\n",
    "lr=LinearRegression()\n",
    "lr.fit(X_train,y_train)\n",
    "rfe = RFE(lr, n_features_to_select=1)\n",
    "rfe.fit(X_train,y_train)\n",
    "\n",
    "\n",
    "print (\"Features sorted by their rank:\")\n",
    "print (sorted(zip(map(lambda x: round(x, 4), rfe.ranking_), df_copy1.columns)))"
   ]
  },
  {
   "cell_type": "code",
   "execution_count": 74,
   "id": "98266166",
   "metadata": {},
   "outputs": [
    {
     "data": {
      "text/plain": [
       "0.06112107454188642"
      ]
     },
     "execution_count": 74,
     "metadata": {},
     "output_type": "execute_result"
    }
   ],
   "source": [
    "from sklearn.metrics import r2_score\n",
    "y_pred = lr.predict(X_test)\n",
    "r2_score(y_test,y_pred)"
   ]
  },
  {
   "cell_type": "code",
   "execution_count": 75,
   "id": "3920c768",
   "metadata": {},
   "outputs": [
    {
     "data": {
      "text/html": [
       "<div>\n",
       "<style scoped>\n",
       "    .dataframe tbody tr th:only-of-type {\n",
       "        vertical-align: middle;\n",
       "    }\n",
       "\n",
       "    .dataframe tbody tr th {\n",
       "        vertical-align: top;\n",
       "    }\n",
       "\n",
       "    .dataframe thead th {\n",
       "        text-align: right;\n",
       "    }\n",
       "</style>\n",
       "<table border=\"1\" class=\"dataframe\">\n",
       "  <thead>\n",
       "    <tr style=\"text-align: right;\">\n",
       "      <th></th>\n",
       "      <th>Actual</th>\n",
       "      <th>Predicted</th>\n",
       "    </tr>\n",
       "  </thead>\n",
       "  <tbody>\n",
       "    <tr>\n",
       "      <th>0</th>\n",
       "      <td>2</td>\n",
       "      <td>2.059392</td>\n",
       "    </tr>\n",
       "    <tr>\n",
       "      <th>1</th>\n",
       "      <td>2</td>\n",
       "      <td>2.048119</td>\n",
       "    </tr>\n",
       "    <tr>\n",
       "      <th>2</th>\n",
       "      <td>2</td>\n",
       "      <td>2.434532</td>\n",
       "    </tr>\n",
       "    <tr>\n",
       "      <th>3</th>\n",
       "      <td>2</td>\n",
       "      <td>2.058559</td>\n",
       "    </tr>\n",
       "    <tr>\n",
       "      <th>4</th>\n",
       "      <td>2</td>\n",
       "      <td>2.277702</td>\n",
       "    </tr>\n",
       "    <tr>\n",
       "      <th>...</th>\n",
       "      <td>...</td>\n",
       "      <td>...</td>\n",
       "    </tr>\n",
       "    <tr>\n",
       "      <th>367990</th>\n",
       "      <td>4</td>\n",
       "      <td>2.356330</td>\n",
       "    </tr>\n",
       "    <tr>\n",
       "      <th>367991</th>\n",
       "      <td>2</td>\n",
       "      <td>2.186307</td>\n",
       "    </tr>\n",
       "    <tr>\n",
       "      <th>367992</th>\n",
       "      <td>2</td>\n",
       "      <td>2.213161</td>\n",
       "    </tr>\n",
       "    <tr>\n",
       "      <th>367993</th>\n",
       "      <td>2</td>\n",
       "      <td>2.390040</td>\n",
       "    </tr>\n",
       "    <tr>\n",
       "      <th>367994</th>\n",
       "      <td>2</td>\n",
       "      <td>2.180968</td>\n",
       "    </tr>\n",
       "  </tbody>\n",
       "</table>\n",
       "<p>367995 rows × 2 columns</p>\n",
       "</div>"
      ],
      "text/plain": [
       "        Actual  Predicted\n",
       "0            2   2.059392\n",
       "1            2   2.048119\n",
       "2            2   2.434532\n",
       "3            2   2.058559\n",
       "4            2   2.277702\n",
       "...        ...        ...\n",
       "367990       4   2.356330\n",
       "367991       2   2.186307\n",
       "367992       2   2.213161\n",
       "367993       2   2.390040\n",
       "367994       2   2.180968\n",
       "\n",
       "[367995 rows x 2 columns]"
      ]
     },
     "execution_count": 75,
     "metadata": {},
     "output_type": "execute_result"
    }
   ],
   "source": [
    "A_P = pd.DataFrame({'Actual': y_test, 'Predicted': y_pred})\n",
    "A_P"
   ]
  },
  {
   "cell_type": "code",
   "execution_count": 76,
   "id": "903978b9",
   "metadata": {},
   "outputs": [
    {
     "name": "stdout",
     "output_type": "stream",
     "text": [
      "Mean Absolute Error: 0.4014284857889987\n",
      "Mean Squared Error: 0.34568830475782003\n",
      "Root Mean Squared Error: 0.5879526381927545\n"
     ]
    }
   ],
   "source": [
    "import sklearn.metrics as metrics\n",
    "print('Mean Absolute Error:', metrics.mean_absolute_error(y_test, y_pred))  \n",
    "print('Mean Squared Error:', metrics.mean_squared_error(y_test, y_pred))  \n",
    "print('Root Mean Squared Error:', np.sqrt(metrics.mean_squared_error(y_test, y_pred)))"
   ]
  },
  {
   "cell_type": "code",
   "execution_count": null,
   "id": "f4dc7d3c",
   "metadata": {},
   "outputs": [],
   "source": []
  },
  {
   "cell_type": "code",
   "execution_count": null,
   "id": "74b15edb",
   "metadata": {},
   "outputs": [],
   "source": []
  },
  {
   "cell_type": "code",
   "execution_count": null,
   "id": "0a8bbdb6",
   "metadata": {},
   "outputs": [],
   "source": []
  },
  {
   "cell_type": "code",
   "execution_count": 77,
   "id": "d1d96772",
   "metadata": {},
   "outputs": [
    {
     "data": {
      "text/html": [
       "<div>\n",
       "<style scoped>\n",
       "    .dataframe tbody tr th:only-of-type {\n",
       "        vertical-align: middle;\n",
       "    }\n",
       "\n",
       "    .dataframe tbody tr th {\n",
       "        vertical-align: top;\n",
       "    }\n",
       "\n",
       "    .dataframe thead th {\n",
       "        text-align: right;\n",
       "    }\n",
       "</style>\n",
       "<table border=\"1\" class=\"dataframe\">\n",
       "  <thead>\n",
       "    <tr style=\"text-align: right;\">\n",
       "      <th></th>\n",
       "      <th>0</th>\n",
       "      <th>1</th>\n",
       "      <th>2</th>\n",
       "      <th>3</th>\n",
       "      <th>4</th>\n",
       "      <th>5</th>\n",
       "      <th>6</th>\n",
       "      <th>7</th>\n",
       "      <th>8</th>\n",
       "      <th>9</th>\n",
       "      <th>10</th>\n",
       "    </tr>\n",
       "  </thead>\n",
       "  <tbody>\n",
       "    <tr>\n",
       "      <th>0</th>\n",
       "      <td>-6.992009</td>\n",
       "      <td>5.381759</td>\n",
       "      <td>1.011381</td>\n",
       "      <td>-1.112415</td>\n",
       "      <td>-1.098844</td>\n",
       "      <td>-1.308785</td>\n",
       "      <td>-1.551496</td>\n",
       "      <td>-1.099633</td>\n",
       "      <td>-1.155691</td>\n",
       "      <td>-1.119698</td>\n",
       "      <td>-1.484685</td>\n",
       "    </tr>\n",
       "    <tr>\n",
       "      <th>1</th>\n",
       "      <td>-7.250356</td>\n",
       "      <td>5.344170</td>\n",
       "      <td>-0.129852</td>\n",
       "      <td>-1.182648</td>\n",
       "      <td>-1.098844</td>\n",
       "      <td>-1.308785</td>\n",
       "      <td>-1.551496</td>\n",
       "      <td>-1.099633</td>\n",
       "      <td>-1.155691</td>\n",
       "      <td>-1.119698</td>\n",
       "      <td>8.483087</td>\n",
       "    </tr>\n",
       "    <tr>\n",
       "      <th>2</th>\n",
       "      <td>-7.218265</td>\n",
       "      <td>5.281744</td>\n",
       "      <td>-0.270016</td>\n",
       "      <td>-1.383312</td>\n",
       "      <td>-1.098844</td>\n",
       "      <td>-1.308785</td>\n",
       "      <td>-1.551496</td>\n",
       "      <td>-1.099633</td>\n",
       "      <td>-1.155691</td>\n",
       "      <td>-1.119698</td>\n",
       "      <td>-1.484685</td>\n",
       "    </tr>\n",
       "    <tr>\n",
       "      <th>3</th>\n",
       "      <td>-6.946476</td>\n",
       "      <td>5.412304</td>\n",
       "      <td>0.477912</td>\n",
       "      <td>-1.395659</td>\n",
       "      <td>-1.098844</td>\n",
       "      <td>-1.308785</td>\n",
       "      <td>7.005440</td>\n",
       "      <td>-1.099633</td>\n",
       "      <td>-1.155691</td>\n",
       "      <td>-1.119698</td>\n",
       "      <td>-1.484685</td>\n",
       "    </tr>\n",
       "    <tr>\n",
       "      <th>4</th>\n",
       "      <td>-7.342029</td>\n",
       "      <td>5.360576</td>\n",
       "      <td>-0.549197</td>\n",
       "      <td>-1.450201</td>\n",
       "      <td>-1.098844</td>\n",
       "      <td>-1.308785</td>\n",
       "      <td>-1.551496</td>\n",
       "      <td>-1.099633</td>\n",
       "      <td>-1.155691</td>\n",
       "      <td>-1.119698</td>\n",
       "      <td>8.483087</td>\n",
       "    </tr>\n",
       "  </tbody>\n",
       "</table>\n",
       "</div>"
      ],
      "text/plain": [
       "         0         1         2         3         4         5         6   \\\n",
       "0 -6.992009  5.381759  1.011381 -1.112415 -1.098844 -1.308785 -1.551496   \n",
       "1 -7.250356  5.344170 -0.129852 -1.182648 -1.098844 -1.308785 -1.551496   \n",
       "2 -7.218265  5.281744 -0.270016 -1.383312 -1.098844 -1.308785 -1.551496   \n",
       "3 -6.946476  5.412304  0.477912 -1.395659 -1.098844 -1.308785  7.005440   \n",
       "4 -7.342029  5.360576 -0.549197 -1.450201 -1.098844 -1.308785 -1.551496   \n",
       "\n",
       "         7         8         9         10  \n",
       "0 -1.099633 -1.155691 -1.119698 -1.484685  \n",
       "1 -1.099633 -1.155691 -1.119698  8.483087  \n",
       "2 -1.099633 -1.155691 -1.119698 -1.484685  \n",
       "3 -1.099633 -1.155691 -1.119698 -1.484685  \n",
       "4 -1.099633 -1.155691 -1.119698  8.483087  "
      ]
     },
     "execution_count": 77,
     "metadata": {},
     "output_type": "execute_result"
    }
   ],
   "source": [
    "\n",
    "from sklearn.linear_model import LogisticRegression \n",
    "from sklearn.preprocessing import StandardScaler\n",
    "scaler = StandardScaler()\n",
    "X_train = scaler.fit_transform(X_train)\n",
    "X_test = scaler.transform(X_test)\n",
    "clf = LogisticRegression(random_state=0)\n",
    "clf.fit(X_train,y_train)\n",
    "transform = scaler.transform(X_train)\n",
    "scalar_train = pd.DataFrame(transform)\n",
    "scalar_train.head()\n"
   ]
  },
  {
   "cell_type": "code",
   "execution_count": 78,
   "id": "739d164e",
   "metadata": {},
   "outputs": [
    {
     "name": "stdout",
     "output_type": "stream",
     "text": [
      "Logistic regression algorithm accuracy_score is: 0.799.\n"
     ]
    }
   ],
   "source": [
    "from sklearn.metrics import accuracy_score\n",
    "y_pred = clf.predict(X_test)\n",
    "\n",
    "acc=accuracy_score(y_test, y_pred)\n",
    "\n",
    "\n",
    "print(\"Logistic regression algorithm accuracy_score is: {:.3f}.\".format(acc))"
   ]
  },
  {
   "cell_type": "code",
   "execution_count": 79,
   "id": "10a0eef1",
   "metadata": {},
   "outputs": [
    {
     "data": {
      "text/plain": [
       "array([2, 2, 2, ..., 2, 2, 2])"
      ]
     },
     "execution_count": 79,
     "metadata": {},
     "output_type": "execute_result"
    }
   ],
   "source": [
    "y_pred"
   ]
  },
  {
   "cell_type": "code",
   "execution_count": null,
   "id": "6eca179f",
   "metadata": {},
   "outputs": [],
   "source": [
    "from sklearn.metrics import confusion_matrix\n",
    "\n",
    "cm = confusion_matrix(y_test,y_pred)"
   ]
  },
  {
   "cell_type": "code",
   "execution_count": null,
   "id": "aac51ec1",
   "metadata": {},
   "outputs": [],
   "source": [
    "\n",
    "\n",
    "plot_confusion_matrix(clf,X_test,y_test)"
   ]
  },
  {
   "cell_type": "code",
   "execution_count": null,
   "id": "a31fc4a0",
   "metadata": {},
   "outputs": [],
   "source": []
  },
  {
   "cell_type": "code",
   "execution_count": null,
   "id": "7d6f1cbb",
   "metadata": {},
   "outputs": [],
   "source": [
    "fig, ax = plt.subplots(1, 2, figsize=(15,5))\n",
    "\n",
    "color = ['blue' if l == 0 else 'green' for l in y_train]\n",
    "ax[0].scatter(X_train[:, 0], X_train[:, 1], c=color, label='1')\n",
    "ax[0].title.set_text('Train sample')\n",
    "\n",
    "color = ['blue' if l == 0 else 'green' for l in y_test]\n",
    "ax[1].scatter(X_test[:, 0], X_test[:, 1], c=color, label='1');\n",
    "ax[1 ].title.set_text('Test sample')"
   ]
  },
  {
   "cell_type": "code",
   "execution_count": null,
   "id": "0bca05bf",
   "metadata": {},
   "outputs": [],
   "source": []
  },
  {
   "cell_type": "code",
   "execution_count": null,
   "id": "3a24977f",
   "metadata": {},
   "outputs": [],
   "source": []
  },
  {
   "cell_type": "code",
   "execution_count": null,
   "id": "8914d807",
   "metadata": {},
   "outputs": [],
   "source": [
    "from sklearn.metrics import mean_squared_error\n",
    "\n",
    "score = np.sqrt(mean_squared_error(y_test, y_pred))\n",
    "print(\"The Test RMSE score for our model:\", score)"
   ]
  },
  {
   "cell_type": "code",
   "execution_count": null,
   "id": "4b1758ec",
   "metadata": {},
   "outputs": [],
   "source": []
  },
  {
   "cell_type": "code",
   "execution_count": null,
   "id": "cb01a686",
   "metadata": {},
   "outputs": [],
   "source": []
  },
  {
   "cell_type": "markdown",
   "id": "b466243a",
   "metadata": {},
   "source": [
    "# Unsupervised Learning\n"
   ]
  },
  {
   "cell_type": "code",
   "execution_count": null,
   "id": "8cbfa538",
   "metadata": {},
   "outputs": [],
   "source": [
    "Y = df_copy1['Severity'].values\n",
    "X = df_copy1.drop('Severity', axis=1).values"
   ]
  },
  {
   "cell_type": "code",
   "execution_count": null,
   "id": "6d59f683",
   "metadata": {},
   "outputs": [],
   "source": [
    "\n",
    "from sklearn import linear_model\n",
    "\n",
    "\n",
    "features = df_copy1.drop('Severity', axis=1)\n",
    "target = df_copy1['Severity'].values\n",
    "\n",
    "\n",
    "reg = linear_model.LinearRegression()\n",
    "\n",
    "\n",
    "reg.fit(features, target)\n",
    "\n",
    "fit_coef = reg.coef_\n",
    "fit_coef"
   ]
  },
  {
   "cell_type": "code",
   "execution_count": null,
   "id": "d4c7fa26",
   "metadata": {},
   "outputs": [],
   "source": [
    "\n",
    "from sklearn.preprocessing import StandardScaler\n",
    "scaler = StandardScaler()\n",
    "features_scaled = scaler.fit_transform(features)\n",
    "\n",
    "from sklearn.decomposition import PCA\n",
    "pca = PCA()\n",
    "\n",
    "\n",
    "pca.fit(features_scaled)\n",
    "\n",
    "\n",
    "import matplotlib.pyplot as plt\n",
    "plt.bar(range(1, pca.n_components_ + 1),  pca.explained_variance_ratio_)\n",
    "plt.xlabel('Principal component #')\n",
    "plt.ylabel('Proportion of variance explained')\n",
    "plt.xticks([1, 2, 3,4,5,6,7,8,9,10,11])\n",
    "\n"
   ]
  },
  {
   "cell_type": "code",
   "execution_count": null,
   "id": "994ecdd3",
   "metadata": {},
   "outputs": [],
   "source": [
    "\n",
    "pca = PCA(n_components=4)\n",
    "p_comps = pca.fit_transform(features_scaled)\n",
    "\n",
    "\n",
    "p_comp1 = p_comps[:,0]\n",
    "p_comp2 = p_comps[:,1]\n",
    "p_comp3 = p_comps[:,2]\n",
    "p_comp4 = p_comps[:,3]\n",
    "\n",
    "\n",
    "plt.scatter(p_comp1,p_comp2, p_comp3, p_comp4)"
   ]
  },
  {
   "cell_type": "code",
   "execution_count": null,
   "id": "1845b41a",
   "metadata": {},
   "outputs": [],
   "source": [
    "\n",
    "from sklearn.cluster import KMeans\n",
    "ks = range(1, 10)\n",
    "inertias = []\n",
    "for k in ks:\n",
    "\n",
    "    km = KMeans(n_clusters=k, random_state=8)\n",
    "    \n",
    "    km.fit(features_scaled)\n",
    "    \n",
    "    inertias.append(km.inertia_)\n",
    "    \n",
    "\n",
    "plt.plot(ks, inertias, marker='o')"
   ]
  },
  {
   "cell_type": "code",
   "execution_count": null,
   "id": "2790a67e",
   "metadata": {},
   "outputs": [],
   "source": [
    "\n",
    "km = KMeans(n_clusters=k, random_state=8)\n",
    "\n",
    "\n",
    "p_comps = km.fit_transform(features_scaled)\n",
    "\n",
    "\n",
    "plt.scatter(p_comps[:,0], p_comps[:,1], c=km.labels_)\n"
   ]
  },
  {
   "cell_type": "code",
   "execution_count": null,
   "id": "83c3716b",
   "metadata": {},
   "outputs": [],
   "source": []
  },
  {
   "cell_type": "code",
   "execution_count": null,
   "id": "69067ddb",
   "metadata": {},
   "outputs": [],
   "source": []
  },
  {
   "cell_type": "code",
   "execution_count": null,
   "id": "6b97935f",
   "metadata": {},
   "outputs": [],
   "source": []
  },
  {
   "cell_type": "code",
   "execution_count": null,
   "id": "cb1aa9f0",
   "metadata": {},
   "outputs": [],
   "source": []
  },
  {
   "cell_type": "code",
   "execution_count": null,
   "id": "aae46c1a",
   "metadata": {
    "scrolled": true
   },
   "outputs": [],
   "source": [
    "\n"
   ]
  },
  {
   "cell_type": "code",
   "execution_count": null,
   "id": "afb53f67",
   "metadata": {},
   "outputs": [],
   "source": []
  },
  {
   "cell_type": "code",
   "execution_count": null,
   "id": "ec496a3a",
   "metadata": {},
   "outputs": [],
   "source": []
  },
  {
   "cell_type": "code",
   "execution_count": null,
   "id": "d188acc6",
   "metadata": {},
   "outputs": [],
   "source": []
  },
  {
   "cell_type": "code",
   "execution_count": null,
   "id": "e1cea767",
   "metadata": {},
   "outputs": [],
   "source": []
  },
  {
   "cell_type": "code",
   "execution_count": null,
   "id": "ce24f09f",
   "metadata": {},
   "outputs": [],
   "source": []
  },
  {
   "cell_type": "code",
   "execution_count": null,
   "id": "fc585609",
   "metadata": {},
   "outputs": [],
   "source": []
  },
  {
   "cell_type": "code",
   "execution_count": null,
   "id": "40929253",
   "metadata": {},
   "outputs": [],
   "source": []
  },
  {
   "cell_type": "code",
   "execution_count": null,
   "id": "ff73fd54",
   "metadata": {},
   "outputs": [],
   "source": []
  }
 ],
 "metadata": {
  "kernelspec": {
   "display_name": "Python 3",
   "language": "python",
   "name": "python3"
  },
  "language_info": {
   "codemirror_mode": {
    "name": "ipython",
    "version": 3
   },
   "file_extension": ".py",
   "mimetype": "text/x-python",
   "name": "python",
   "nbconvert_exporter": "python",
   "pygments_lexer": "ipython3",
   "version": "3.8.8"
  }
 },
 "nbformat": 4,
 "nbformat_minor": 5
}
